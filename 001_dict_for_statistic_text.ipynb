{
 "cells": [
  {
   "cell_type": "markdown",
   "metadata": {},
   "source": [
    "### Dict对象来实现文本的统计处理"
   ]
  },
  {
   "cell_type": "code",
   "execution_count": 1,
   "metadata": {},
   "outputs": [
    {
     "name": "stdout",
     "output_type": "stream",
     "text": [
      "{'and': 1, 'on': 1, 'basics': 1, 'ability': 1, 'move': 1, 'Python': 1, 'data': 2, 'is': 1, 'Learn': 1, 'stunning': 1, 'to': 2, 'create': 1, 'critical': 1, 'in': 1, 'visualizations': 1, 'The': 1, 'analyze': 1, 'with': 1, 'the': 1, 'science': 1}\n"
     ]
    }
   ],
   "source": [
    "# init a sentence including many words\n",
    "sentence = \"The ability to analyze data with Python is critical in data science Learn the basics and move on to create stunning visualizations\"\n",
    "# init a dict\n",
    "word_dict = {}\n",
    "\n",
    "# analysis the words of the sentence and statistic the number of every word\n",
    "for word in sentence.split():\n",
    "    if word not in word_dict:\n",
    "        word_dict[word] = 1\n",
    "    else:\n",
    "        word_dict[word] += 1\n",
    "        \n",
    "# print the result\n",
    "print word_dict"
   ]
  },
  {
   "cell_type": "markdown",
   "metadata": {},
   "source": [
    "使用另外的一个defaultdict类，需要引入collections包"
   ]
  },
  {
   "cell_type": "code",
   "execution_count": 1,
   "metadata": {
    "scrolled": true
   },
   "outputs": [
    {
     "name": "stdout",
     "output_type": "stream",
     "text": [
      "defaultdict(<type 'int'>, {'and': 1, 'on': 1, 'basics': 1, 'ability': 1, 'move': 1, 'Python': 1, 'data': 2, 'is': 1, 'Learn': 1, 'stunning': 1, 'to': 2, 'create': 1, 'critical': 1, 'in': 1, 'visualizations': 1, 'The': 1, 'analyze': 1, 'with': 1, 'the': 1, 'science': 1})\n"
     ]
    }
   ],
   "source": [
    "from collections import defaultdict\n",
    "\n",
    "sentence = \"The ability to analyze data with Python is critical in data science Learn the basics and move on to create stunning visualizations\"\n",
    "\n",
    "word_dict = defaultdict(int)\n",
    "\n",
    "for word in sentence.split():\n",
    "    word_dict[word] +=1\n",
    "    \n",
    "print word_dict"
   ]
  },
  {
   "cell_type": "markdown",
   "metadata": {},
   "source": [
    "变量使用dict的items()函数，keys()可以遍历所有的键，values()可以遍历所有的值"
   ]
  },
  {
   "cell_type": "code",
   "execution_count": null,
   "metadata": {
    "collapsed": true
   },
   "outputs": [],
   "source": [
    "for key,value in word_dict.items():\n",
    "    print key,value"
   ]
  },
  {
   "cell_type": "markdown",
   "metadata": {},
   "source": [
    "counter是一个字典子类，用来统计键值对类型的对象"
   ]
  },
  {
   "cell_type": "markdown",
   "metadata": {},
   "source": [
    "from collections import Counter\n",
    "\n",
    "sentence = \"The ability to analyze data with Python is critical in data science Learn the basics and move on to create stunning visualizations\"\n",
    "\n",
    "words = sentence.split()\n",
    "\n",
    "word_dict = Counter(words)\n",
    "\n",
    "print word_dict"
   ]
  },
  {
   "cell_type": "markdown",
   "metadata": {},
   "source": [
    "使用字典的字典，举一个例子，有三个用户的五个电影的评分，则用dict如何存储，就是字典的嵌套"
   ]
  },
  {
   "cell_type": "code",
   "execution_count": 5,
   "metadata": {},
   "outputs": [
    {
     "name": "stdout",
     "output_type": "stream",
     "text": [
      "defaultdict(<function <lambda> at 0x04B68D70>, {'Roc-J': defaultdict(<type 'int'>, {'icecream': 3, 'SW': 5, 'wolf1': 4, 'wolf3': 3, 'wolf2': 5})})\n"
     ]
    }
   ],
   "source": [
    "from collections import defaultdict\n",
    "\n",
    "user_movie_rating = defaultdict(lambda:defaultdict(int))\n",
    "\n",
    "# 初始化一个用户的电影评分\n",
    "\n",
    "user_movie_rating['Roc-J']['wolf1'] = 4\n",
    "user_movie_rating['Roc-J']['wolf2'] = 5\n",
    "user_movie_rating['Roc-J']['wolf3'] = 3\n",
    "user_movie_rating['Roc-J']['icecream'] = 3\n",
    "user_movie_rating['Roc-J']['SW'] = 5\n",
    "\n",
    "print user_movie_rating"
   ]
  }
 ],
 "metadata": {
  "kernelspec": {
   "display_name": "Python 2",
   "language": "python",
   "name": "python2"
  },
  "language_info": {
   "codemirror_mode": {
    "name": "ipython",
    "version": 2
   },
   "file_extension": ".py",
   "mimetype": "text/x-python",
   "name": "python",
   "nbconvert_exporter": "python",
   "pygments_lexer": "ipython2",
   "version": "2.7.12"
  }
 },
 "nbformat": 4,
 "nbformat_minor": 2
}
