{
 "cells": [
  {
   "cell_type": "markdown",
   "metadata": {},
   "source": [
    "## k-means进行数据聚类  \n",
    "k-means是一种搜寻中心的无监督算法，是一种迭代的不确定方法。  \n",
    "* 迭代 算法的步骤不断重复，直到达到收敛的那一步  \n",
    "* 不确定 算法的初值不同，最终得到的聚类结果可能不同\n",
    "\n",
    "k-means需要指定簇的数量k来作为算法的输入参数，至于如何选择k的值，目前还没有什么好办法，只能通过多次运算比较结果来确定\n",
    "\n",
    "评估结果的质量：  \n",
    "* 簇的内聚，同一个簇里点相互靠近  \n",
    "* 簇的分散，不同簇里的点相互远离   \n",
    "\n",
    "准备工作：\n",
    "k-means产生的每个簇都可以用以下的指标进行评估  \n",
    "* 簇的位置 簇中心的坐标。\n",
    "    k-means初始化的时候随机选择一个点作为中心点，然后每个步骤迭代找到一个新的中心，在这个新的中心附近的点都相似，并被划分到同一个组 \n",
    "* 簇的半径 簇内每个点到簇中心的距离的平均差  \n",
    "* 簇的规模 簇内的点的数量  \n",
    "* 簇的密度 簇的规模和簇的半径的比值  \n",
    "\n",
    "采用所谓的轮廓系数来评估k-means的结果，它的值介于-1~1  \n",
    "* 负值说明簇的半径大于簇之间的距离（两个簇之间有重叠，聚类效果差）  \n",
    "* 值越大，越接近1，则表明聚类的结果越好  "
   ]
  },
  {
   "cell_type": "code",
   "execution_count": 1,
   "metadata": {
    "collapsed": true
   },
   "outputs": [],
   "source": [
    "import numpy as np\n",
    "import matplotlib.pyplot as plt\n",
    "\n",
    "def get_random_data():\n",
    "    x_1 = np.random.normal(loc=0.2,scale=0.2,size=(100,100))\n",
    "    x_2 = np.random.normal(loc=0.9,scale=0.1,size=(100,100))\n",
    "    \n",
    "    x = np.r_[x_1,x_2]\n",
    "    return x"
   ]
  },
  {
   "cell_type": "code",
   "execution_count": 2,
   "metadata": {},
   "outputs": [
    {
     "name": "stdout",
     "output_type": "stream",
     "text": [
      "[[ 0.01741457  0.54055647  0.18663902 ...,  0.19115549  0.07362466\n",
      "   0.39132716]\n",
      " [ 0.13293776  0.23102296  0.17733862 ...,  0.40941615  0.25382605\n",
      "   0.15081975]\n",
      " [ 0.26011027  0.10276115  0.68216534 ...,  0.50468251  0.43123449\n",
      "   0.21328265]\n",
      " ..., \n",
      " [ 0.7167998   1.06126506  0.95383362 ...,  0.72420064  1.01718388\n",
      "   0.76892851]\n",
      " [ 0.88563259  0.80096669  0.8614204  ...,  1.04791234  0.87893855\n",
      "   0.94252441]\n",
      " [ 0.96391381  0.89287327  1.02425404 ...,  0.84352767  0.77462956\n",
      "   0.75583833]]\n"
     ]
    }
   ],
   "source": [
    "x = get_random_data()\n",
    "print x"
   ]
  },
  {
   "cell_type": "code",
   "execution_count": 5,
   "metadata": {},
   "outputs": [
    {
     "name": "stdout",
     "output_type": "stream",
     "text": [
      "(200, 100)\n"
     ]
    }
   ],
   "source": [
    "print np.shape(x)"
   ]
  },
  {
   "cell_type": "code",
   "execution_count": 6,
   "metadata": {
    "scrolled": true
   },
   "outputs": [
    {
     "data": {
      "image/png": "[encoded data removed]",
      "text/plain": [
       "<matplotlib.figure.Figure at 0x65cf730>"
      ]
     },
     "metadata": {},
     "output_type": "display_data"
    }
   ],
   "source": [
    "# plot \n",
    "plt.cla()\n",
    "plt.figure(1)\n",
    "plt.title(\"Generated Data\")\n",
    "plt.scatter(x[:,0],x[:,1])\n",
    "plt.show()"
   ]
  },
  {
   "cell_type": "code",
   "execution_count": 8,
   "metadata": {},
   "outputs": [],
   "source": [
    "# 我们定义一个函数来执行k-means算法，就能对给定的数据进行聚类\n",
    "from sklearn.cluster import KMeans\n",
    "from sklearn.metrics import silhouette_score"
   ]
  },
  {
   "cell_type": "code",
   "execution_count": 11,
   "metadata": {
    "collapsed": true
   },
   "outputs": [],
   "source": [
    "def form_clusters(x,k):\n",
    "    '''\n",
    "    build cluster\n",
    "    '''\n",
    "    # k是划分出的簇的个数\n",
    "    no_clusters = k\n",
    "    model = KMeans(n_clusters=no_clusters,init='random')\n",
    "    model.fit(x)\n",
    "    labels = model.labels_\n",
    "    print labels\n",
    "    \n",
    "    # 计算轮廓系数\n",
    "    sh_score = silhouette_score(x,labels)\n",
    "    return sh_score"
   ]
  },
  {
   "cell_type": "code",
   "execution_count": 12,
   "metadata": {},
   "outputs": [
    {
     "name": "stdout",
     "output_type": "stream",
     "text": [
      "[0 0 0 0 0 0 0 0 0 0 0 0 0 0 0 0 0 0 0 0 0 0 0 0 0 0 0 0 0 0 0 0 0 0 0 0 0\n",
      " 0 0 0 0 0 0 0 0 0 0 0 0 0 0 0 0 0 0 0 0 0 0 0 0 0 0 0 0 0 0 0 0 0 0 0 0 0\n",
      " 0 0 0 0 0 0 0 0 0 0 0 0 0 0 0 0 0 0 0 0 0 0 0 0 0 0 1 1 1 1 1 1 1 1 1 1 1\n",
      " 1 1 1 1 1 1 1 1 1 1 1 1 1 1 1 1 1 1 1 1 1 1 1 1 1 1 1 1 1 1 1 1 1 1 1 1 1\n",
      " 1 1 1 1 1 1 1 1 1 1 1 1 1 1 1 1 1 1 1 1 1 1 1 1 1 1 1 1 1 1 1 1 1 1 1 1 1\n",
      " 1 1 1 1 1 1 1 1 1 1 1 1 1 1 1]\n",
      "[0 2 0 0 0 2 0 0 2 0 0 2 0 2 0 2 2 2 0 2 0 0 2 0 2 0 0 2 2 0 2 2 2 2 2 0 0\n",
      " 0 0 2 2 0 0 0 2 0 2 0 2 2 0 0 0 2 0 0 0 0 2 0 2 0 0 2 2 2 2 2 0 2 2 2 2 2\n",
      " 0 2 0 0 2 2 2 2 2 2 2 2 2 0 2 2 0 0 2 2 2 2 2 0 0 0 1 1 1 1 1 1 1 1 1 1 1\n",
      " 1 1 1 1 1 1 1 1 1 1 1 1 1 1 1 1 1 1 1 1 1 1 1 1 1 1 1 1 1 1 1 1 1 1 1 1 1\n",
      " 1 1 1 1 1 1 1 1 1 1 1 1 1 1 1 1 1 1 1 1 1 1 1 1 1 1 1 1 1 1 1 1 1 1 1 1 1\n",
      " 1 1 1 1 1 1 1 1 1 1 1 1 1 1 1]\n",
      "[3 1 1 1 3 3 3 3 1 1 1 2 1 1 1 3 3 2 2 2 3 3 1 3 1 1 1 1 1 1 3 1 1 2 1 3 1\n",
      " 3 3 1 2 1 1 1 3 3 2 3 1 3 1 1 2 2 3 2 3 1 3 3 3 2 1 2 3 1 2 1 3 3 1 1 2 1\n",
      " 3 2 1 1 1 2 1 1 3 1 1 1 1 1 2 3 3 3 2 3 3 2 2 3 2 3 0 0 0 0 0 0 0 0 0 0 0\n",
      " 0 0 0 0 0 0 0 0 0 0 0 0 0 0 0 0 0 0 0 0 0 0 0 0 0 0 0 0 0 0 0 0 0 0 0 0 0\n",
      " 0 0 0 0 0 0 0 0 0 0 0 0 0 0 0 0 0 0 0 0 0 0 0 0 0 0 0 0 0 0 0 0 0 0 0 0 0\n",
      " 0 0 0 0 0 0 0 0 0 0 0 0 0 0 0]\n",
      "[4 1 1 0 1 1 4 4 3 1 1 1 1 4 0 4 4 4 4 4 1 1 1 0 3 0 4 4 1 0 4 1 4 4 1 3 3\n",
      " 0 4 4 4 0 4 4 1 1 4 0 4 1 3 4 1 1 0 4 0 0 4 1 4 0 1 1 4 4 3 4 4 4 4 1 0 4\n",
      " 0 4 1 1 4 4 4 1 4 4 3 4 4 3 4 4 3 0 4 1 4 4 4 0 4 4 2 2 2 2 2 2 2 2 2 2 2\n",
      " 2 2 2 2 2 2 2 2 2 2 2 2 2 2 2 2 2 2 2 2 2 2 2 2 2 2 2 2 2 2 2 2 2 2 2 2 2\n",
      " 2 2 2 2 2 2 2 2 2 2 2 2 2 2 2 2 2 2 2 2 2 2 2 2 2 2 2 2 2 2 2 2 2 2 2 2 2\n",
      " 2 2 2 2 2 2 2 2 2 2 2 2 2 2 2]\n"
     ]
    }
   ],
   "source": [
    "sh_scores = []\n",
    "for i in range(1,5):\n",
    "    sh_score = form_clusters(x,i+1)\n",
    "    sh_scores.append(sh_score)\n",
    "no_clusters = [i+1 for i in range(1,5)]"
   ]
  },
  {
   "cell_type": "code",
   "execution_count": 13,
   "metadata": {},
   "outputs": [
    {
     "data": {
      "image/png": "[encoded data removed]",
      "text/plain": [
       "<matplotlib.figure.Figure at 0x661e1b0>"
      ]
     },
     "metadata": {},
     "output_type": "display_data"
    }
   ],
   "source": [
    "# plot \n",
    "plt.figure(2)\n",
    "plt.plot(no_clusters,sh_scores)\n",
    "plt.title('Cluster Quality')\n",
    "plt.xlabel('No of clusters k')\n",
    "plt.ylabel('silhouette coeffcient')\n",
    "plt.show()"
   ]
  }
 ],
 "metadata": {
  "kernelspec": {
   "display_name": "Python 2",
   "language": "python",
   "name": "python2"
  },
  "language_info": {
   "codemirror_mode": {
    "name": "ipython",
    "version": 2
   },
   "file_extension": ".py",
   "mimetype": "text/x-python",
   "name": "python",
   "nbconvert_exporter": "python",
   "pygments_lexer": "ipython2",
   "version": "2.7.12"
  }
 },
 "nbformat": 4,
 "nbformat_minor": 2
}
