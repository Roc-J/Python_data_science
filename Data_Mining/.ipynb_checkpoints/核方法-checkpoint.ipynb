{
 "cells": [
  {
   "cell_type": "markdown",
   "metadata": {},
   "source": [
    "## 核方法\n",
    "一般而言，线性模型可以用一条直线或者一个超平面将数据分隔开，是比较容易解释和理解的。\n",
    "数据若是非线性的就无法使用线性模型，但要是数据被转换成线性相关性的空间，则可以使用线性模型。\n",
    ">满足上述条件需要进行高昂的数学运算。选择核函数\n",
    "\n",
    "核函数是一种相似度函数，需要两个输入参数，这两个输入参数之间的相似度即核函数的输出结果。\n"
   ]
  },
  {
   "cell_type": "code",
   "execution_count": 1,
   "metadata": {
    "collapsed": true
   },
   "outputs": [],
   "source": [
    "import numpy as np\n",
    "# 三维的输入向量\n",
    "x = np.array([10,20,30])\n",
    "y = np.array([8,9,10])"
   ]
  },
  {
   "cell_type": "markdown",
   "metadata": {},
   "source": [
    "定义一个映射函数来进行转换空间  \n",
    "phi（x1,x2,x3) = (x1x2,x1x3,x2x3,x1x1,x2x2,x3x3)  \n",
    "上述转换将三维空间转换成6维  "
   ]
  },
  {
   "cell_type": "code",
   "execution_count": 4,
   "metadata": {},
   "outputs": [],
   "source": [
    "def mapping_function(x):\n",
    "    out_list = []\n",
    "    for i in range(len(x)):\n",
    "        out_list.append(x[i]*x[i])\n",
    "    out_list.append(x[0]*x[1])\n",
    "    out_list.append(x[0]*x[2])\n",
    "    out_list.append(x[1]*x[0])\n",
    "    out_list.append(x[1]*x[2])\n",
    "    out_list.append(x[2]*x[0])\n",
    "    out_list.append(x[2]*x[1])\n",
    "    return np.array(out_list)"
   ]
  },
  {
   "cell_type": "code",
   "execution_count": 5,
   "metadata": {},
   "outputs": [
    {
     "name": "stdout",
     "output_type": "stream",
     "text": [
      "[100 400 900 200 300 200 600 300 600]\n",
      "313600\n",
      "313600\n"
     ]
    }
   ],
   "source": [
    "# 主函数\n",
    "if __name__ == '__main__':\n",
    "    # 应用映射函数\n",
    "    tranf_x = mapping_function(x)\n",
    "    tranf_y = mapping_function(y)\n",
    "    # print the result\n",
    "    print tranf_x\n",
    "    print np.dot(tranf_x,tranf_y)\n",
    "    \n",
    "    # 这个和上面的核函数是等价的\n",
    "    output = np.power((np.dot(x,y)),2)\n",
    "    print output"
   ]
  }
 ],
 "metadata": {
  "kernelspec": {
   "display_name": "Python 2",
   "language": "python",
   "name": "python2"
  },
  "language_info": {
   "codemirror_mode": {
    "name": "ipython",
    "version": 2
   },
   "file_extension": ".py",
   "mimetype": "text/x-python",
   "name": "python",
   "nbconvert_exporter": "python",
   "pygments_lexer": "ipython2",
   "version": "2.7.12"
  }
 },
 "nbformat": 4,
 "nbformat_minor": 2
}
