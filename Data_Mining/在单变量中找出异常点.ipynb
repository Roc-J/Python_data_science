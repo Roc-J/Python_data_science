{
 "cells": [
  {
   "cell_type": "markdown",
   "metadata": {},
   "source": [
    "### 在单变量数据中找出异常点\n",
    "\n",
    "在单变量数据中检测异常点的方法  \n",
    "* 绝对中位差  \n",
    "* 平均值加或减3倍标准差"
   ]
  },
  {
   "cell_type": "code",
   "execution_count": 1,
   "metadata": {
    "collapsed": true
   },
   "outputs": [],
   "source": [
    "import numpy as np\n",
    "import matplotlib.pyplot as plt\n",
    "\n",
    "n_samples = 100\n",
    "fraction_of_outliers = 0.1\n",
    "number_inliers = int((1-fraction_of_outliers)*n_samples)\n",
    "number_outliers = n_samples - number_inliers"
   ]
  },
  {
   "cell_type": "code",
   "execution_count": 2,
   "metadata": {
    "collapsed": true
   },
   "outputs": [],
   "source": [
    "# 划分完数据集后进行数据的采集，从正态分布中采集\n",
    "normal_data = np.random.randn(number_inliers,1)"
   ]
  },
  {
   "cell_type": "code",
   "execution_count": 3,
   "metadata": {},
   "outputs": [
    {
     "name": "stdout",
     "output_type": "stream",
     "text": [
      "mean = (0.00) and Standard Deviation (0.99)\n"
     ]
    }
   ],
   "source": [
    "# 打印输出平均值和标准差来确认输入数据的状态\n",
    "mean = np.mean(normal_data,axis=0)\n",
    "std = np.std(normal_data,axis=0)\n",
    "print 'mean = (%0.2f) and Standard Deviation (%0.2f)' % (mean[0],std[0])"
   ]
  },
  {
   "cell_type": "code",
   "execution_count": 4,
   "metadata": {},
   "outputs": [
    {
     "name": "stdout",
     "output_type": "stream",
     "text": [
      "size of input data = (100,1)\n"
     ]
    }
   ],
   "source": [
    "# 创建异常点数据\n",
    "outlier_data = np.random.uniform(low=-9,high=9,size=(number_outliers,1))\n",
    "total_data = np.r_[normal_data,outlier_data]\n",
    "print 'size of input data = (%d,%d)' % (total_data.shape)"
   ]
  },
  {
   "cell_type": "code",
   "execution_count": 5,
   "metadata": {},
   "outputs": [
    {
     "data": {
      "image/png": "[encoded data removed]",
      "text/plain": [
       "<matplotlib.figure.Figure at 0x6844370>"
      ]
     },
     "metadata": {},
     "output_type": "display_data"
    }
   ],
   "source": [
    "# 将数据绘制在图\n",
    "plt.cla()\n",
    "plt.figure(1)\n",
    "plt.title('Input points')\n",
    "plt.scatter(range(len(total_data)),total_data,c='b')\n",
    "plt.show()"
   ]
  },
  {
   "cell_type": "code",
   "execution_count": 6,
   "metadata": {
    "collapsed": true
   },
   "outputs": [],
   "source": [
    "# 从绝对中位差开始，绘出数据图，并将数据异常点标记为红色\n",
    "# 采用绝对中位差来检测数据里的异常点\n",
    "median = np.median(total_data)\n",
    "b = 1.4826\n",
    "# np.abs 计算数组各元素的绝对值\n",
    "mad = b*np.median(np.abs(total_data - median))"
   ]
  },
  {
   "cell_type": "code",
   "execution_count": 7,
   "metadata": {},
   "outputs": [
    {
     "name": "stdout",
     "output_type": "stream",
     "text": [
      "median absolute Deviation = 1.12\n"
     ]
    }
   ],
   "source": [
    "outliers = []\n",
    "outlier_index = []\n",
    "print 'median absolute Deviation = %0.2f' % mad"
   ]
  },
  {
   "cell_type": "code",
   "execution_count": 9,
   "metadata": {},
   "outputs": [
    {
     "name": "stdout",
     "output_type": "stream",
     "text": [
      "lower limit = -3.43,upper limit = 3.29\n",
      "outliers 8.59\n",
      "outliers -4.61\n",
      "outliers -8.94\n",
      "outliers -6.31\n",
      "outliers -3.82\n",
      "outliers -3.64\n",
      "outliers 6.10\n",
      "outliers 6.81\n"
     ]
    }
   ],
   "source": [
    "lower_limit = median - (3*mad)\n",
    "upper_limit = median + (3*mad)\n",
    "print 'lower limit = %0.2f,upper limit = %0.2f'% (lower_limit,upper_limit)\n",
    "for i in range(len(total_data)):\n",
    "    if total_data[i]>upper_limit or total_data[i]<lower_limit:\n",
    "        print 'outliers %0.2f'%(total_data[i])\n",
    "        outliers.append(total_data[i])\n",
    "        outlier_index.append(i)"
   ]
  },
  {
   "cell_type": "code",
   "execution_count": 10,
   "metadata": {},
   "outputs": [
    {
     "data": {
      "image/png": "[encoded data removed]",
      "text/plain": [
       "<matplotlib.figure.Figure at 0x69c11d0>"
      ]
     },
     "metadata": {},
     "output_type": "display_data"
    }
   ],
   "source": [
    "# plot \n",
    "plt.figure(2)\n",
    "plt.title('outliers using mad')\n",
    "plt.scatter(range(len(total_data)),total_data,c='b')\n",
    "plt.scatter(outlier_index,outliers,c='r')\n",
    "plt.show()"
   ]
  },
  {
   "cell_type": "code",
   "execution_count": 11,
   "metadata": {},
   "outputs": [
    {
     "name": "stdout",
     "output_type": "stream",
     "text": [
      "lower limit = -6.25,upper limit = 6.11\n",
      "outliner 8.59\n",
      "outliner -8.94\n",
      "outliner -6.31\n",
      "outliner 6.81\n"
     ]
    },
    {
     "data": {
      "image/png": "[encoded data removed]",
      "text/plain": [
       "<matplotlib.figure.Figure at 0x69c1cf0>"
      ]
     },
     "metadata": {},
     "output_type": "display_data"
    }
   ],
   "source": [
    "# 平均值 + 1 3*标准差\n",
    "std = np.std(total_data)\n",
    "mean = np.mean(total_data)\n",
    "b =3\n",
    "lower_limit = mean - b*std\n",
    "upper_limit = mean + b*std\n",
    "\n",
    "print 'lower limit = %0.2f,upper limit = %0.2f'%(lower_limit,upper_limit)\n",
    "for i in range(len(total_data)):\n",
    "    if total_data[i]<lower_limit or total_data[i]>upper_limit:\n",
    "        print 'outliner %0.2f'% total_data[i]\n",
    "        outliers.append(total_data[i])\n",
    "        outlier_index.append(i)\n",
    "        \n",
    "plt.figure(3)\n",
    "plt.title('outliers using std')\n",
    "plt.scatter(range(len(total_data)),total_data,c='b')\n",
    "plt.scatter(outlier_index,outliers,c='r')\n",
    "plt.show()"
   ]
  }
 ],
 "metadata": {
  "kernelspec": {
   "display_name": "Python 2",
   "language": "python",
   "name": "python2"
  },
  "language_info": {
   "codemirror_mode": {
    "name": "ipython",
    "version": 2
   },
   "file_extension": ".py",
   "mimetype": "text/x-python",
   "name": "python",
   "nbconvert_exporter": "python",
   "pygments_lexer": "ipython2",
   "version": "2.7.12"
  }
 },
 "nbformat": 4,
 "nbformat_minor": 2
}
