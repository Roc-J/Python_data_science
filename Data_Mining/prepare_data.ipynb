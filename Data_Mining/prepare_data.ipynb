{
 "cells": [
  {
   "cell_type": "markdown",
   "metadata": {},
   "source": [
    "分类问题给定的数据集中创建训练集和测试集\n",
    "\n",
    "使用iris数据集"
   ]
  },
  {
   "cell_type": "code",
   "execution_count": 3,
   "metadata": {
    "collapsed": true
   },
   "outputs": [],
   "source": [
    "# \n",
    "from sklearn.cross_validation import train_test_split\n",
    "from sklearn.datasets import load_iris\n",
    "import numpy as np\n",
    "\n",
    "def get_iris_data():\n",
    "    '''\n",
    "    return the Iris dataset\n",
    "    '''\n",
    "    data = load_iris()\n",
    "    x = data['data']\n",
    "    y = data['target']\n",
    "    \n",
    "    # 合并x,y\n",
    "    input_dataset = np.column_stack([x,y])\n",
    "    np.random.shuffle(input_dataset)\n",
    "    return input_dataset"
   ]
  },
  {
   "cell_type": "code",
   "execution_count": 4,
   "metadata": {},
   "outputs": [
    {
     "name": "stdout",
     "output_type": "stream",
     "text": [
      "origin dataset: (150, 5)\n",
      "train  (120, 5)\n",
      "test  (30, 5)\n"
     ]
    }
   ],
   "source": [
    "# 分割数据80%，20%\n",
    "train_rate = 0.8\n",
    "test_rate = 1-train_rate\n",
    "\n",
    "input_dataset = get_iris_data()\n",
    "train,test = train_test_split(input_dataset,test_size=test_rate)\n",
    "\n",
    "#　print\n",
    "print 'origin dataset:',input_dataset.shape\n",
    "print 'train ',train.shape\n",
    "print 'test ',test.shape"
   ]
  },
  {
   "cell_type": "markdown",
   "metadata": {},
   "source": [
    "分割数据后，需要检测训练集和测试集里的类别标签分布是否符合相应的比例"
   ]
  },
  {
   "cell_type": "code",
   "execution_count": 5,
   "metadata": {
    "collapsed": true
   },
   "outputs": [],
   "source": [
    "def get_class_distribution(y):\n",
    "    distribution = {}\n",
    "    set_y = set(y)\n",
    "    for y_label in set_y:\n",
    "        count = len(np.where(y == y_label)[0])\n",
    "        distribution[y_label] = count\n",
    "    dist_percentage = {class_label:count/(1.0*sum(distribution.values())) for class_label,count in distribution.items()}\n",
    "    return dist_percentage"
   ]
  },
  {
   "cell_type": "code",
   "execution_count": 6,
   "metadata": {},
   "outputs": [
    {
     "name": "stdout",
     "output_type": "stream",
     "text": [
      "\n",
      "Train data set class label distribution\n",
      "class label = 0,percentage records=0.33\n",
      "class label = 1,percentage records=0.34\n",
      "class label = 2,percentage records=0.33\n",
      "\n",
      "Test data set class label distribution\n",
      "class label = 0,percentage records =0.33\n",
      "class label = 1,percentage records =0.30\n",
      "class label = 2,percentage records =0.37\n"
     ]
    }
   ],
   "source": [
    "# 打印输出\n",
    "def print_class_label_split(train,test):\n",
    "    y_train = train[:,-1]\n",
    "    train_distribution = get_class_distribution(y_train)\n",
    "    print '\\nTrain data set class label distribution'\n",
    "    for k,v in train_distribution.items():\n",
    "        print 'class label = %d,percentage records=%0.2f'%(k,v)\n",
    "        \n",
    "    y_test = test[:,-1]\n",
    "    test_distribution = get_class_distribution(y_test)\n",
    "    print '\\nTest data set class label distribution'\n",
    "    for k,v in test_distribution.items():\n",
    "        print 'class label = %d,percentage records =%0.2f'%(k,v)\n",
    "print_class_label_split(train,test)"
   ]
  },
  {
   "cell_type": "code",
   "execution_count": 8,
   "metadata": {},
   "outputs": [
    {
     "name": "stdout",
     "output_type": "stream",
     "text": [
      "\n",
      "Train data set class label distribution\n",
      "class label = 0,percentage records=0.33\n",
      "class label = 1,percentage records=0.33\n",
      "class label = 2,percentage records=0.33\n",
      "\n",
      "Test data set class label distribution\n",
      "class label = 0,percentage records =0.33\n",
      "class label = 1,percentage records =0.33\n",
      "class label = 2,percentage records =0.33\n"
     ]
    }
   ],
   "source": [
    "#在训练集和测试集均匀的分割\n",
    "from sklearn.cross_validation import StratifiedShuffleSplit\n",
    "stratified_split = StratifiedShuffleSplit(input_dataset[:,-1],test_size = test_rate,n_iter=1)\n",
    "for train_indx,test_indx in stratified_split:\n",
    "    train = input_dataset[train_indx]\n",
    "    test = input_dataset[test_indx]\n",
    "    print_class_label_split(train,test)"
   ]
  }
 ],
 "metadata": {
  "kernelspec": {
   "display_name": "Python 2",
   "language": "python",
   "name": "python2"
  },
  "language_info": {
   "codemirror_mode": {
    "name": "ipython",
    "version": 2
   },
   "file_extension": ".py",
   "mimetype": "text/x-python",
   "name": "python",
   "nbconvert_exporter": "python",
   "pygments_lexer": "ipython2",
   "version": "2.7.12"
  }
 },
 "nbformat": 4,
 "nbformat_minor": 2
}
