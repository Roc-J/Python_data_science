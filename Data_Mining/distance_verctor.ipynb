{
 "cells": [
  {
   "cell_type": "markdown",
   "metadata": {},
   "source": [
    "Scipy是一个开源的python算法库和数据工具包\n",
    "scipy包含的模块有最优化，线性代数，积分，插值，特殊函数，快速傅里叶变换，信号处理和图像处理、常微分方程求解和其他科学与工程中常用的计算。"
   ]
  },
  {
   "cell_type": "markdown",
   "metadata": {},
   "source": [
    "使用距离度量\n",
    "研究在欧式空间和非欧式空间里的距离向量\n",
    "欧式空间\n",
    "* Lr-Norm距离\n",
    "* 余弦距离\n",
    "\n",
    "非欧式空间\n",
    "* Jaccard距离\n",
    "* Hamming距离"
   ]
  },
  {
   "cell_type": "markdown",
   "metadata": {},
   "source": [
    "在Numpy中，array用于表示通用的N维空间，Matrix则特定用于线性代数\n",
    "使用array时，运算符*用于计算数量积（点乘），函数.dot()计算矢量积"
   ]
  },
  {
   "cell_type": "code",
   "execution_count": 1,
   "metadata": {
    "collapsed": true
   },
   "outputs": [],
   "source": [
    "# 使用距离度量\n",
    "import numpy as np\n",
    "# 定义欧式距离\n",
    "def euclidean_distance(x,y):\n",
    "    if len(x)==len(y):\n",
    "        return np.sqrt(np.sum(np.power((x-y),2)))\n",
    "    else:\n",
    "        print u'应该输入相同的长度'\n",
    "    return None"
   ]
  },
  {
   "cell_type": "code",
   "execution_count": 2,
   "metadata": {
    "collapsed": true
   },
   "outputs": [],
   "source": [
    "# 定义Lr-Norm距离\n",
    "def lrNorm_distance(x,y,power):\n",
    "    if len(x)==len(y):\n",
    "        return np.power(np.sum(np.power((x-y),power)),(1/(1.0*power)))\n",
    "    else:\n",
    "        print u'应该输入相同的长度'\n",
    "    return None"
   ]
  },
  {
   "cell_type": "code",
   "execution_count": 3,
   "metadata": {
    "collapsed": true
   },
   "outputs": [],
   "source": [
    "# 定义余弦距离\n",
    "def cosine_distance(x,y):\n",
    "    if len(x)==len(y):\n",
    "        return np.dot(x,y)/np.sqrt(np.dot(x,x)*np.dot(y,y))\n",
    "    else:\n",
    "        print u'请输入相同的长度'\n",
    "    return None"
   ]
  },
  {
   "cell_type": "code",
   "execution_count": 4,
   "metadata": {
    "collapsed": true
   },
   "outputs": [],
   "source": [
    "def jaccard_distance(x,y):\n",
    "    set_x = set(x)\n",
    "    set_y = set(y)\n",
    "    return 1 - len(set_x.intersection(set_y))/len(set_x.union(set_y))"
   ]
  },
  {
   "cell_type": "code",
   "execution_count": 5,
   "metadata": {
    "collapsed": true
   },
   "outputs": [],
   "source": [
    "# \n",
    "def hamming_distance(x,y):\n",
    "    diff = 0\n",
    "    if len(x) == len(y):\n",
    "        for cha1,cha2 in zip(x,y):\n",
    "            if cha1!=cha2:\n",
    "                diff +=1\n",
    "        return diff\n",
    "    else:\n",
    "        print u'请输入相同的长度'\n",
    "    return None"
   ]
  },
  {
   "cell_type": "code",
   "execution_count": 7,
   "metadata": {},
   "outputs": [
    {
     "name": "stdout",
     "output_type": "stream",
     "text": [
      "0.0\n",
      "0.0\n",
      "0.0\n",
      "余弦距离\n",
      "0.707106781187\n",
      "1\n",
      "1\n"
     ]
    }
   ],
   "source": [
    "# 主函数调用上述定义的函数\n",
    "if __name__ == \"__main__\":\n",
    "    # 给出样例,给出了两个相同的点\n",
    "    x = np.asarray([1,2,3])\n",
    "    y = np.asarray([1,2,3])\n",
    "    # 打印输出欧式距离\n",
    "    print euclidean_distance(x,y)\n",
    "    # r=2,调用lr_Norm计算欧式距离\n",
    "    print lrNorm_distance(x,y,2)\n",
    "    # 曼哈顿距离或者街道距离\n",
    "    print lrNorm_distance(x,y,1)\n",
    "    \n",
    "    # 计算余弦距离\n",
    "    x = [1,1]\n",
    "    y = [1,0]\n",
    "    print u'余弦距离'\n",
    "    print cosine_distance(x,y)\n",
    "    \n",
    "    # 计算jaccard距离的样例数据\n",
    "    x = [1,2,3]\n",
    "    y = [1,1,1]\n",
    "    print jaccard_distance(x,y)\n",
    "    \n",
    "    # 计算Hamming距离的样例数据\n",
    "    x = [11001]\n",
    "    y = [11011]\n",
    "    print hamming_distance(x,y)"
   ]
  }
 ],
 "metadata": {
  "kernelspec": {
   "display_name": "Python 2",
   "language": "python",
   "name": "python2"
  },
  "language_info": {
   "codemirror_mode": {
    "name": "ipython",
    "version": 2
   },
   "file_extension": ".py",
   "mimetype": "text/x-python",
   "name": "python",
   "nbconvert_exporter": "python",
   "pygments_lexer": "ipython2",
   "version": "2.7.12"
  }
 },
 "nbformat": 4,
 "nbformat_minor": 2
}
