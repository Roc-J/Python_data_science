{
 "cells": [
  {
   "cell_type": "markdown",
   "metadata": {},
   "source": [
    "dict对象来实现文本的统计处理"
   ]
  },
  {
   "cell_type": "code",
   "execution_count": 1,
   "metadata": {},
   "outputs": [
    {
     "name": "stdout",
     "output_type": "stream",
     "text": [
      "{'and': 1, 'on': 1, 'basics': 1, 'ability': 1, 'move': 1, 'Python': 1, 'data': 2, 'is': 1, 'Learn': 1, 'stunning': 1, 'to': 2, 'create': 1, 'critical': 1, 'in': 1, 'visualizations': 1, 'The': 1, 'analyze': 1, 'with': 1, 'the': 1, 'science': 1}\n"
     ]
    }
   ],
   "source": [
    "# init a sentence including many words\n",
    "sentence = \"The ability to analyze data with Python is critical in data science Learn the basics and move on to create stunning visualizations\"\n",
    "# init a dict\n",
    "word_dict = {}\n",
    "\n",
    "# analysis the words of the sentence and statistic the number of every word\n",
    "for word in sentence.split():\n",
    "    if word not in word_dict:\n",
    "        word_dict[word] = 1\n",
    "    else:\n",
    "        word_dict[word] += 1\n",
    "        \n",
    "# print the result\n",
    "print word_dict"
   ]
  }
 ],
 "metadata": {
  "kernelspec": {
   "display_name": "Python 2",
   "language": "python",
   "name": "python2"
  },
  "language_info": {
   "codemirror_mode": {
    "name": "ipython",
    "version": 2
   },
   "file_extension": ".py",
   "mimetype": "text/x-python",
   "name": "python",
   "nbconvert_exporter": "python",
   "pygments_lexer": "ipython2",
   "version": "2.7.12"
  }
 },
 "nbformat": 4,
 "nbformat_minor": 2
}
