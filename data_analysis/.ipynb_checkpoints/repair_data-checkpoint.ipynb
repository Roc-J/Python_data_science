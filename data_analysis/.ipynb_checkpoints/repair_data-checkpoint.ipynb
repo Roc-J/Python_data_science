{
 "cells": [
  {
   "cell_type": "code",
   "execution_count": 1,
   "metadata": {
    "collapsed": true
   },
   "outputs": [],
   "source": [
    "# 修补数据\n",
    "from sklearn.datasets import load_iris\n",
    "from sklearn.preprocessing import Imputer\n",
    "import numpy as np\n",
    "import numpy.ma as ma"
   ]
  },
  {
   "cell_type": "code",
   "execution_count": 2,
   "metadata": {
    "collapsed": true
   },
   "outputs": [],
   "source": [
    "# 加载数据集\n",
    "data = load_iris()\n",
    "x = data['data']\n",
    "y = data['target']"
   ]
  },
  {
   "cell_type": "code",
   "execution_count": 3,
   "metadata": {
    "collapsed": true
   },
   "outputs": [],
   "source": [
    "# 复制一份\n",
    "x_t = x.copy()"
   ]
  },
  {
   "cell_type": "code",
   "execution_count": 5,
   "metadata": {
    "collapsed": true
   },
   "outputs": [],
   "source": [
    "# 第2行缺失\n",
    "x_t[2,:] = np.repeat(0,x.shape[1])"
   ]
  },
  {
   "cell_type": "code",
   "execution_count": 7,
   "metadata": {
    "collapsed": true
   },
   "outputs": [],
   "source": [
    "# 创建imputer对象，采用平均值进行修补\n",
    "imputer = Imputer(missing_values=0,strategy='mean')\n",
    "x_imputer = imputer.fit_transform(x_t)"
   ]
  },
  {
   "cell_type": "code",
   "execution_count": 10,
   "metadata": {},
   "outputs": [
    {
     "name": "stdout",
     "output_type": "stream",
     "text": [
      "[5.851006711409397 3.053020134228189 3.7751677852349017 1.2053691275167793]\n",
      "[ 5.85100671  3.05302013  3.77516779  1.20536913]\n"
     ]
    }
   ],
   "source": [
    "mask = np.zeros_like(x_t)\n",
    "mask[2,:] = 1\n",
    "x_t_m = ma.masked_array(x_t,mask)\n",
    "print np.mean(x_t_m,axis=0)\n",
    "print x_imputer[2,:]"
   ]
  }
 ],
 "metadata": {
  "kernelspec": {
   "display_name": "Python 2",
   "language": "python",
   "name": "python2"
  },
  "language_info": {
   "codemirror_mode": {
    "name": "ipython",
    "version": 2
   },
   "file_extension": ".py",
   "mimetype": "text/x-python",
   "name": "python",
   "nbconvert_exporter": "python",
   "pygments_lexer": "ipython2",
   "version": "2.7.12"
  }
 },
 "nbformat": 4,
 "nbformat_minor": 2
}
