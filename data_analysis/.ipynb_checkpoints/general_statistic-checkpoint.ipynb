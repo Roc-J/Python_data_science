{
 "cells": [
  {
   "cell_type": "code",
   "execution_count": 1,
   "metadata": {
    "collapsed": true
   },
   "outputs": [],
   "source": [
    "#　加载库\n",
    "from sklearn.datasets import load_iris\n",
    "import numpy as np\n",
    "from scipy.stats import trim_mean\n",
    "\n",
    "# 加载数据集\n",
    "data = load_iris()\n",
    "x = data['data']\n",
    "y = data['target']\n",
    "col_names = data['feature_names']"
   ]
  },
  {
   "cell_type": "code",
   "execution_count": 2,
   "metadata": {},
   "outputs": [
    {
     "name": "stdout",
     "output_type": "stream",
     "text": [
      "col name,mean value\n",
      "sepal length (cm),5.84\n",
      "sepal width (cm),3.05\n",
      "petal length (cm),3.76\n",
      "petal width (cm),1.20\n"
     ]
    }
   ],
   "source": [
    "# 计算平均值\n",
    "print 'col name,mean value'\n",
    "for i,col_name in enumerate(col_names):\n",
    "    print '%s,%0.2f' % (col_name,np.mean(x[:,i]))"
   ]
  },
  {
   "cell_type": "markdown",
   "metadata": {},
   "source": [
    "截尾均值是另一种有趣的指标，它有自己的特长，10%截尾均值就是将数据集中的最大10%和最小的10%排除，然后计算80%的数据平均值"
   ]
  },
  {
   "cell_type": "code",
   "execution_count": 3,
   "metadata": {},
   "outputs": [
    {
     "name": "stdout",
     "output_type": "stream",
     "text": [
      "col name,trimmed mean value\n",
      "sepal length (cm),5.81\n",
      "sepal width (cm),3.04\n",
      "petal length (cm),3.76\n",
      "petal width (cm),1.18\n"
     ]
    }
   ],
   "source": [
    "# 计算截尾平均值\n",
    "p = 0.1\n",
    "print 'col name,trimmed mean value'\n",
    "for i,col_name in enumerate(col_names):\n",
    "    print '%s,%0.2f' % (col_name,trim_mean(x[:,i],p))\n"
   ]
  },
  {
   "cell_type": "code",
   "execution_count": 5,
   "metadata": {},
   "outputs": [
    {
     "name": "stdout",
     "output_type": "stream",
     "text": [
      "col_name,max,min,range\n",
      "sepal length (cm),7.90,4.30,3.60\n",
      "sepal width (cm),4.40,2.00,2.40\n",
      "petal length (cm),6.90,1.00,5.90\n",
      "petal width (cm),2.50,0.10,2.40\n"
     ]
    }
   ],
   "source": [
    "# 数据离差，计算并显示幅度值\n",
    "print 'col_name,max,min,range'\n",
    "for i,col_name in enumerate(col_names):\n",
    "    print '%s,%0.2f,%0.2f,%0.2f' % (col_name,max(x[:,i]),min(x[:,i]),max(x[:,i])-min(x[:,i]))"
   ]
  },
  {
   "cell_type": "code",
   "execution_count": 6,
   "metadata": {},
   "outputs": [
    {
     "name": "stdout",
     "output_type": "stream",
     "text": [
      "col_name,variance,std-dev\n",
      "sepal length (cm),0.68,0.83\n",
      "sepal width (cm),0.19,0.43\n",
      "petal length (cm),3.09,1.76\n",
      "petal width (cm),0.58,0.76\n"
     ]
    }
   ],
   "source": [
    "# 方差，标准差\n",
    "print 'col_name,variance,std-dev'\n",
    "for i,col_name in enumerate(col_names):\n",
    "    print '%s,%0.2f,%0.2f'%(col_name,np.var(x[:,i]),np.std(x[:,i]))"
   ]
  },
  {
   "cell_type": "code",
   "execution_count": 7,
   "metadata": {},
   "outputs": [
    {
     "name": "stdout",
     "output_type": "stream",
     "text": [
      "col_name,mad\n",
      "sepal length (cm),0.69\n",
      "sepal width (cm),0.33\n",
      "petal length (cm),1.56\n",
      "petal width (cm),0.66\n"
     ]
    }
   ],
   "source": [
    "# 计算平均绝对离差\n",
    "def mad(x,axis=None):\n",
    "    mean = np.mean(x,axis=axis)\n",
    "    return np.sum(np.abs(x-mean))/(1.0*len(x))\n",
    "\n",
    "print 'col_name,mad'\n",
    "for i,col_name in enumerate(col_names):\n",
    "    print '%s,%0.2f' % (col_name,mad(x[:,i]))"
   ]
  },
  {
   "cell_type": "code",
   "execution_count": 8,
   "metadata": {},
   "outputs": [
    {
     "name": "stdout",
     "output_type": "stream",
     "text": [
      "col_name,median,abs dev,quartile range\n",
      "sepal length (cm),5.80,0.70,1.30\n",
      "sepal width (cm),3.00,0.25,0.50\n",
      "petal length (cm),4.35,1.25,3.50\n",
      "petal width (cm),1.30,0.70,1.50\n"
     ]
    }
   ],
   "source": [
    "# 计算绝对中位数\n",
    "def mdad(x,axis=None):\n",
    "    median = np.median(x,axis=axis)\n",
    "    return np.median(np.abs(x-median))\n",
    "\n",
    "print 'col_name,median,abs dev,quartile range'\n",
    "for i,col_name in enumerate(col_names):\n",
    "    iqr = np.percentile(x[:,i],75) - np.percentile(x[:,i],25)\n",
    "    print '%s,%0.2f,%0.2f,%0.2f'%(col_name,np.median(x[:,i]),mdad(x[:,i]),iqr)"
   ]
  }
 ],
 "metadata": {
  "kernelspec": {
   "display_name": "Python 2",
   "language": "python",
   "name": "python2"
  },
  "language_info": {
   "codemirror_mode": {
    "name": "ipython",
    "version": 2
   },
   "file_extension": ".py",
   "mimetype": "text/x-python",
   "name": "python",
   "nbconvert_exporter": "python",
   "pygments_lexer": "ipython2",
   "version": "2.7.12"
  }
 },
 "nbformat": 4,
 "nbformat_minor": 2
}
