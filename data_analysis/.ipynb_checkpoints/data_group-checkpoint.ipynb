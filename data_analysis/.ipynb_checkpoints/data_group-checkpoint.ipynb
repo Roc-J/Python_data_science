{
 "cells": [
  {
   "cell_type": "markdown",
   "metadata": {},
   "source": [
    "### 数据分组和使用点阵图  \n",
    "探索性数据分析中，可以使用点阵图。所谓点阵图，就是将数据分成多个组绘制在一定的范围内  \n"
   ]
  },
  {
   "cell_type": "code",
   "execution_count": 1,
   "metadata": {
    "collapsed": true
   },
   "outputs": [],
   "source": [
    "# 加载库\n",
    "import numpy as np\n",
    "import matplotlib.pyplot as plt\n",
    "from collections import Counter\n",
    "from collections import OrderedDict\n",
    "from matplotlib.pylab import frange"
   ]
  },
  {
   "cell_type": "code",
   "execution_count": 2,
   "metadata": {
    "collapsed": true
   },
   "outputs": [],
   "source": [
    "# 装载数据，处理丢失的数据\n",
    "fill_data = lambda x :int(x.strip() or 0)\n",
    "data = np.genfromtxt('president.txt',dtype=(int,int),converters={1:fill_data},delimiter=',')\n",
    "x = data[:,0]\n",
    "y = data[:,1]"
   ]
  },
  {
   "cell_type": "code",
   "execution_count": 3,
   "metadata": {
    "collapsed": true
   },
   "outputs": [],
   "source": [
    "# 采用频率（独立的点的个数）对数据进行分组\n",
    "# 给定一些点，Counter()返回一个字典，键是数据点，值是数据点在数据集中的频率。\n",
    "x_freq = Counter(y)\n",
    "x_ = np.array(x_freq.keys())\n",
    "y_ = np.array(x_freq.values())"
   ]
  },
  {
   "cell_type": "code",
   "execution_count": 7,
   "metadata": {},
   "outputs": [
    {
     "name": "stdout",
     "output_type": "stream",
     "text": [
      "Counter({11: 3, 13: 3, 14: 3, 16: 3, 17: 3, 20: 3, 0: 2, 5: 2, 8: 2, 18: 2, 19: 2, 21: 2, 23: 2, 25: 2, 26: 2, 27: 2, 6: 1, 7: 1, 9: 1, 22: 1, 24: 1, 28: 1, 30: 1, 31: 1, 32: 1, 34: 1, 38: 1, 39: 1, 41: 1, 54: 1})\n"
     ]
    }
   ],
   "source": [
    "print x_freq"
   ]
  },
  {
   "cell_type": "code",
   "execution_count": 4,
   "metadata": {},
   "outputs": [
    {
     "name": "stdout",
     "output_type": "stream",
     "text": [
      "OrderedDict([((1946, 1947, 1948, 1949, 1950), [41, 23, 16, 28, 20]), ((1951, 1952, 1953, 1954), [11, 19, 14, 39]), ((1955, 1956, 1957, 1958), [32, 0, 14, 0]), ((1959, 1960, 1961, 1962), [16, 6, 25, 24]), ((1963, 1964, 1965, 1966), [18, 17, 38, 31]), ((1967, 1968, 1969, 1970), [27, 26, 17, 21]), ((1971, 1972, 1973, 1974), [20, 17, 23, 16]), ((1975, 1976, 1977, 1978), [13, 13, 21, 11]), ((1979, 1980, 1981, 1982), [13, 11, 8, 8]), ((1983, 1984, 1985, 1986), [14, 9, 7, 5]), ((1987, 1988, 1989, 1990), [5, 54, 34, 18]), ((1991, 1992, 1993, 1994), [20, 27, 30, 22]), ((1995, 1996, 1997), [25, 19, 26])])\n"
     ]
    }
   ],
   "source": [
    "# 采用年份范围进行分组\n",
    "x_group = OrderedDict()\n",
    "group = 5\n",
    "group_count = 1\n",
    "keys = []\n",
    "values = []\n",
    "for i,xx in enumerate(x):\n",
    "    keys.append(xx)\n",
    "    values.append(y[i])\n",
    "    if group_count == 5:\n",
    "        x_group[tuple(keys)]= values\n",
    "        keys = []\n",
    "        values = []\n",
    "        group_count = 1\n",
    "    group_count +=1\n",
    "    \n",
    "x_group[tuple(keys)] = values\n",
    "print x_group"
   ]
  },
  {
   "cell_type": "code",
   "execution_count": 6,
   "metadata": {},
   "outputs": [
    {
     "data": {
      "image/png": "[encoded data removed]",
      "text/plain": [
       "<matplotlib.figure.Figure at 0x70cc850>"
      ]
     },
     "metadata": {},
     "output_type": "display_data"
    }
   ],
   "source": [
    "# 绘制分组数据的点阵图\n",
    "plt.subplot(311)\n",
    "plt.title(\"Dot Plot by Frequency\")\n",
    "plt.plot(y_,x_,'ro')\n",
    "plt.xlabel('Count')\n",
    "plt.ylabel('# Frequential Request')\n",
    "plt.xlim(min(y_)-1,max(y_)+1)\n",
    "plt.show()"
   ]
  },
  {
   "cell_type": "code",
   "execution_count": null,
   "metadata": {
    "collapsed": true
   },
   "outputs": [],
   "source": []
  }
 ],
 "metadata": {
  "kernelspec": {
   "display_name": "Python 2",
   "language": "python",
   "name": "python2"
  },
  "language_info": {
   "codemirror_mode": {
    "name": "ipython",
    "version": 2
   },
   "file_extension": ".py",
   "mimetype": "text/x-python",
   "name": "python",
   "nbconvert_exporter": "python",
   "pygments_lexer": "ipython2",
   "version": "2.7.12"
  }
 },
 "nbformat": 4,
 "nbformat_minor": 2
}
