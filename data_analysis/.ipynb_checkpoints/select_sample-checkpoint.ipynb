{
 "cells": [
  {
   "cell_type": "code",
   "execution_count": 1,
   "metadata": {
    "collapsed": true
   },
   "outputs": [],
   "source": [
    "from sklearn.datasets import load_iris\n",
    "import numpy as np\n",
    "\n",
    "# load \n",
    "data = load_iris()\n",
    "x = data['data']"
   ]
  },
  {
   "cell_type": "code",
   "execution_count": 2,
   "metadata": {},
   "outputs": [
    {
     "name": "stdout",
     "output_type": "stream",
     "text": [
      "[ 95  45  62  22   4  19  54 129  12 119]\n"
     ]
    }
   ],
   "source": [
    "# 从样本中抽取10\n",
    "no_records = 10\n",
    "x_sample_index = np.random.choice(range(x.shape[0]),no_records)\n",
    "print x_sample_index"
   ]
  },
  {
   "cell_type": "code",
   "execution_count": 3,
   "metadata": {},
   "outputs": [
    {
     "name": "stdout",
     "output_type": "stream",
     "text": [
      "[[ 5.7  3.   4.2  1.2]\n",
      " [ 4.8  3.   1.4  0.3]\n",
      " [ 6.   2.2  4.   1. ]\n",
      " [ 4.6  3.6  1.   0.2]\n",
      " [ 5.   3.6  1.4  0.2]\n",
      " [ 5.1  3.8  1.5  0.3]\n",
      " [ 6.5  2.8  4.6  1.5]\n",
      " [ 7.2  3.   5.8  1.6]\n",
      " [ 4.8  3.   1.4  0.1]\n",
      " [ 6.   2.2  5.   1.5]]\n"
     ]
    }
   ],
   "source": [
    "print x[x_sample_index,:]"
   ]
  }
 ],
 "metadata": {
  "kernelspec": {
   "display_name": "Python 2",
   "language": "python",
   "name": "python2"
  },
  "language_info": {
   "codemirror_mode": {
    "name": "ipython",
    "version": 2
   },
   "file_extension": ".py",
   "mimetype": "text/x-python",
   "name": "python",
   "nbconvert_exporter": "python",
   "pygments_lexer": "ipython2",
   "version": "2.7.12"
  }
 },
 "nbformat": 4,
 "nbformat_minor": 2
}
