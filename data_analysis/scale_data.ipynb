{
 "cells": [
  {
   "cell_type": "code",
   "execution_count": 1,
   "metadata": {
    "collapsed": true
   },
   "outputs": [],
   "source": [
    "import numpy as np"
   ]
  },
  {
   "cell_type": "code",
   "execution_count": 2,
   "metadata": {},
   "outputs": [
    {
     "name": "stdout",
     "output_type": "stream",
     "text": [
      "[19, 23, 14, 10, 11, 21, 22, 19, 23, 10]\n"
     ]
    }
   ],
   "source": [
    "np.random.seed(10)\n",
    "x = [np.random.randint(10,25) for i in range(10)]\n",
    "print x"
   ]
  },
  {
   "cell_type": "code",
   "execution_count": 3,
   "metadata": {
    "collapsed": true
   },
   "outputs": [],
   "source": [
    "def min_max(x):\n",
    "    return [round((xx-min(x))/(1.0*(max(x)-min(x))),2) for xx in x]"
   ]
  },
  {
   "cell_type": "code",
   "execution_count": 4,
   "metadata": {},
   "outputs": [
    {
     "name": "stdout",
     "output_type": "stream",
     "text": [
      "[19, 23, 14, 10, 11, 21, 22, 19, 23, 10]\n",
      "[0.69, 1.0, 0.31, 0.0, 0.08, 0.85, 0.92, 0.69, 1.0, 0.0]\n"
     ]
    }
   ],
   "source": [
    "print x\n",
    "print min_max(x)"
   ]
  },
  {
   "cell_type": "code",
   "execution_count": null,
   "metadata": {
    "collapsed": true
   },
   "outputs": [],
   "source": []
  },
  {
   "cell_type": "code",
   "execution_count": 5,
   "metadata": {},
   "outputs": [
    {
     "name": "stdout",
     "output_type": "stream",
     "text": [
      "[[ 19.  23.  14.  10.  11.  21.  22.  19.  23.  10.]]\n"
     ]
    }
   ],
   "source": [
    "from sklearn.preprocessing import MinMaxScaler\n",
    "import numpy as np\n",
    "\n",
    "np.random.seed(10)\n",
    "x = np.matrix([np.random.randint(10,25)*1.0 for i in range(10)])\n",
    "print x"
   ]
  },
  {
   "cell_type": "code",
   "execution_count": 9,
   "metadata": {},
   "outputs": [
    {
     "name": "stdout",
     "output_type": "stream",
     "text": [
      "[[ 0.69230769]\n",
      " [ 1.        ]\n",
      " [ 0.30769231]\n",
      " [ 0.        ]\n",
      " [ 0.07692308]\n",
      " [ 0.84615385]\n",
      " [ 0.92307692]\n",
      " [ 0.69230769]\n",
      " [ 1.        ]\n",
      " [ 0.        ]]\n"
     ]
    }
   ],
   "source": [
    "minmax = MinMaxScaler(feature_range=(0.0,1.0))\n",
    "x = x.T\n",
    "x_t = minmax.fit_transform(x)\n",
    "print x_t"
   ]
  },
  {
   "cell_type": "markdown",
   "metadata": {
    "collapsed": true
   },
   "source": [
    "### 数据标准化"
   ]
  },
  {
   "cell_type": "code",
   "execution_count": 10,
   "metadata": {
    "collapsed": true
   },
   "outputs": [],
   "source": [
    "# 加载库\n",
    "import numpy as np\n",
    "from sklearn.preprocessing import scale"
   ]
  },
  {
   "cell_type": "code",
   "execution_count": 11,
   "metadata": {
    "collapsed": true
   },
   "outputs": [],
   "source": [
    "np.random.seed(10)\n",
    "x = [np.random.randint(10,25)*1.0 for i in range(10)]\n"
   ]
  },
  {
   "cell_type": "code",
   "execution_count": 12,
   "metadata": {},
   "outputs": [
    {
     "name": "stdout",
     "output_type": "stream",
     "text": [
      "[19.0, 23.0, 14.0, 10.0, 11.0, 21.0, 22.0, 19.0, 23.0, 10.0]\n",
      "[ 1.8  5.8 -3.2 -7.2 -6.2  3.8  4.8  1.8  5.8 -7.2]\n",
      "[ 0.35059022  1.12967961 -0.62327151 -1.4023609  -1.20758855  0.74013492\n",
      "  0.93490726  0.35059022  1.12967961 -1.4023609 ]\n",
      "Origin x mean = 17.20,Centered mean = 0.00,Std dev of standard x = 0.00\n"
     ]
    }
   ],
   "source": [
    "x_centered = scale(x,with_mean=True,with_std=False)\n",
    "x_standard = scale(x,with_mean=True,with_std=True)\n",
    "\n",
    "print x\n",
    "print x_centered\n",
    "print x_standard\n",
    "print 'Origin x mean = %0.2f,Centered mean = %0.2f,Std dev of standard x = %0.2f' %(np.mean(x),np.mean(x_centered),np.mean(x_standard))\n"
   ]
  }
 ],
 "metadata": {
  "kernelspec": {
   "display_name": "Python 2",
   "language": "python",
   "name": "python2"
  },
  "language_info": {
   "codemirror_mode": {
    "name": "ipython",
    "version": 2
   },
   "file_extension": ".py",
   "mimetype": "text/x-python",
   "name": "python",
   "nbconvert_exporter": "python",
   "pygments_lexer": "ipython2",
   "version": "2.7.12"
  }
 },
 "nbformat": 4,
 "nbformat_minor": 2
}
