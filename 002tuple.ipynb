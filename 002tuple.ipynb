{
 "cells": [
  {
   "cell_type": "markdown",
   "metadata": {},
   "source": [
    "### tuple在python中的使用"
   ]
  },
  {
   "cell_type": "code",
   "execution_count": 1,
   "metadata": {},
   "outputs": [
    {
     "name": "stdout",
     "output_type": "stream",
     "text": [
      "Hello\n",
      "Roc-J\n"
     ]
    }
   ],
   "source": [
    "# create a tuple,括号不是必须的\n",
    "a_tuple = (1,2,\"Roc-J\")\n",
    "b_tuple = 1,2,\"Hello\"\n",
    "\n",
    "# access element\n",
    "print b_tuple[-1]\n",
    "print a_tuple[2]\n",
    "\n"
   ]
  },
  {
   "cell_type": "code",
   "execution_count": 2,
   "metadata": {},
   "outputs": [
    {
     "name": "stdout",
     "output_type": "stream",
     "text": [
      "tuple cannot change value\n"
     ]
    }
   ],
   "source": [
    "# tuple is unchanged\n",
    "try:\n",
    "    b_tuple[0] = 100\n",
    "except:\n",
    "    print \"tuple cannot change value\""
   ]
  },
  {
   "cell_type": "code",
   "execution_count": 3,
   "metadata": {},
   "outputs": [
    {
     "name": "stdout",
     "output_type": "stream",
     "text": [
      "(1, 2, [1, 2, 'hello Roc-J'])\n"
     ]
    }
   ],
   "source": [
    "# 虽然元组不可变，但是元组的元素可以是一个可变的对象，比如说列表\n",
    "\n",
    "c_tuple = (1,2,[1,2,3])\n",
    "c_tuple[2][2] = 'hello Roc-J'\n",
    "print c_tuple"
   ]
  },
  {
   "cell_type": "code",
   "execution_count": 4,
   "metadata": {},
   "outputs": [
    {
     "name": "stdout",
     "output_type": "stream",
     "text": [
      "(1, 2, 'Roc-J', 1, 2, 'Hello', 1, 2, [1, 2, 'hello Roc-J'])\n"
     ]
    }
   ],
   "source": [
    "# 元组创建无法像列表一样扩展，但是可以串联在一起\n",
    "\n",
    "print a_tuple + b_tuple + c_tuple"
   ]
  },
  {
   "cell_type": "code",
   "execution_count": 5,
   "metadata": {},
   "outputs": [
    {
     "name": "stdout",
     "output_type": "stream",
     "text": [
      "(3, 4, 5, 6, 7, 8, 9, 0)\n",
      "(2, 3, 4, 5, 6, 7)\n",
      "(2, 4, 6, 8)\n",
      "(1, 2, 3, 4, 5, 6, 7, 8, 9)\n"
     ]
    }
   ],
   "source": [
    "# tuple split \n",
    "a = (1,2,3,4,5,6,7,8,9,0)\n",
    "print a[2:]\n",
    "print a[1:7]\n",
    "print a[1:9:2]\n",
    "print a[:-1]"
   ]
  },
  {
   "cell_type": "code",
   "execution_count": 6,
   "metadata": {},
   "outputs": [
    {
     "name": "stdout",
     "output_type": "stream",
     "text": [
      "0 9\n"
     ]
    }
   ],
   "source": [
    "# tuple min and max value\n",
    "print min(a),max(a)"
   ]
  },
  {
   "cell_type": "code",
   "execution_count": 7,
   "metadata": {},
   "outputs": [
    {
     "name": "stdout",
     "output_type": "stream",
     "text": [
      "element 1 is in a\n"
     ]
    }
   ],
   "source": [
    "# in and not in \n",
    "if 1 in a:\n",
    "    print 'element 1 is in a'\n",
    "else:\n",
    "    print 'element 1 is not in a'"
   ]
  }
 ],
 "metadata": {
  "kernelspec": {
   "display_name": "Python 2",
   "language": "python",
   "name": "python2"
  },
  "language_info": {
   "codemirror_mode": {
    "name": "ipython",
    "version": 2
   },
   "file_extension": ".py",
   "mimetype": "text/x-python",
   "name": "python",
   "nbconvert_exporter": "python",
   "pygments_lexer": "ipython2",
   "version": "2.7.12"
  }
 },
 "nbformat": 4,
 "nbformat_minor": 2
}
