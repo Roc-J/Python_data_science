{
 "cells": [
  {
   "cell_type": "markdown",
   "metadata": {},
   "source": [
    "### 使用set来  \n",
    "集合用来删除重复的值\n",
    "\n",
    "使用jaccard系数来计算2句话的相似度"
   ]
  },
  {
   "cell_type": "code",
   "execution_count": 3,
   "metadata": {},
   "outputs": [
    {
     "name": "stdout",
     "output_type": "stream",
     "text": [
      "set1 is  set(['beautiful', 'you', 'are'])\n",
      "set2 is  set(['a', 'you', 'are', 'beauty'])\n",
      "commen words count is  2\n",
      "unique words count is  5\n",
      "commen words is  set(['you', 'are'])\n",
      "uniq words is  set(['beautiful', 'a', 'are', 'beauty', 'you'])\n",
      "Similarity is : 0.4\n"
     ]
    }
   ],
   "source": [
    "#初始化2个句子\n",
    "\n",
    "st_1 = \"you are beautiful\"\n",
    "st_2 = \"you are a beauty\"\n",
    "\n",
    "# 创建集合\n",
    "st_1_words = set(st_1.split())\n",
    "st_2_words = set(st_2.split())\n",
    "\n",
    "# 每个集合的大小\n",
    "c_st_1_words = len(st_1_words)\n",
    "c_st_2_words = len(st_2_words)\n",
    "\n",
    "# 两个集合共有的词\n",
    "com_words = st_1_words.intersection(st_2_words)\n",
    "c_com_words = len(com_words)\n",
    "\n",
    "# 两个集合不重复的词\n",
    "uniq_words = st_1_words.union(st_2_words)\n",
    "c_uniq_words = len(uniq_words)\n",
    "\n",
    "# 计算jaccard相似度\n",
    "\n",
    "similarity = c_com_words/(1.0*c_uniq_words)\n",
    "\n",
    "\n",
    "# print the result\n",
    "print 'set1 is ',st_1_words\n",
    "print 'set2 is ',st_2_words\n",
    "print 'commen words count is ',c_com_words\n",
    "print 'unique words count is ',c_uniq_words\n",
    "print 'commen words is ',com_words\n",
    "print 'uniq words is ',uniq_words\n",
    "print 'Similarity is :',similarity"
   ]
  }
 ],
 "metadata": {
  "kernelspec": {
   "display_name": "Python 2",
   "language": "python",
   "name": "python2"
  },
  "language_info": {
   "codemirror_mode": {
    "name": "ipython",
    "version": 2
   },
   "file_extension": ".py",
   "mimetype": "text/x-python",
   "name": "python",
   "nbconvert_exporter": "python",
   "pygments_lexer": "ipython2",
   "version": "2.7.12"
  }
 },
 "nbformat": 4,
 "nbformat_minor": 2
}
