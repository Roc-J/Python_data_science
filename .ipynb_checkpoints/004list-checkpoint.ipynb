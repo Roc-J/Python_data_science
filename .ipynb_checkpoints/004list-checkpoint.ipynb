{
 "cells": [
  {
   "cell_type": "markdown",
   "metadata": {},
   "source": [
    "### list"
   ]
  },
  {
   "cell_type": "code",
   "execution_count": 1,
   "metadata": {},
   "outputs": [
    {
     "name": "stdout",
     "output_type": "stream",
     "text": [
      "[1, 2, 3, 4, 5, 6, 7, 8, 9]\n",
      "['a', 'b', 'c', 'd']\n"
     ]
    }
   ],
   "source": [
    "# create a list\n",
    "a = range(1,10)\n",
    "print a\n",
    "b = [\"a\",\"b\",\"c\",\"d\"]\n",
    "print b"
   ]
  },
  {
   "cell_type": "code",
   "execution_count": 2,
   "metadata": {},
   "outputs": [
    {
     "name": "stdout",
     "output_type": "stream",
     "text": [
      "1\n",
      "b\n"
     ]
    }
   ],
   "source": [
    "# access element by index\n",
    "print a[0]\n",
    "print b[-3]"
   ]
  },
  {
   "cell_type": "code",
   "execution_count": 3,
   "metadata": {},
   "outputs": [
    {
     "name": "stdout",
     "output_type": "stream",
     "text": [
      "[2, 3, 4, 5, 6]\n",
      "[2, 3, 4, 5, 6, 7, 8, 9]\n",
      "[1, 2, 3, 4, 5]\n",
      "[9]\n",
      "[1, 2, 3, 4, 5, 6, 7, 8]\n",
      "['b', 'c']\n"
     ]
    }
   ],
   "source": [
    "# list can split\n",
    "print a[1:6]\n",
    "print a[1:]\n",
    "print a[:5]\n",
    "print a[-1:]\n",
    "print a[:-1]\n",
    "print b[1:3]\n"
   ]
  },
  {
   "cell_type": "code",
   "execution_count": 4,
   "metadata": {},
   "outputs": [
    {
     "name": "stdout",
     "output_type": "stream",
     "text": [
      "[1, 4, 5, 6]\n"
     ]
    }
   ],
   "source": [
    "# list + operator\n",
    "a = [1,4]\n",
    "b = [5,6]\n",
    "print a+b"
   ]
  },
  {
   "cell_type": "code",
   "execution_count": 5,
   "metadata": {},
   "outputs": [
    {
     "name": "stdout",
     "output_type": "stream",
     "text": [
      "4\n",
      "1\n"
     ]
    }
   ],
   "source": [
    "# the min and max of list\n",
    "print max(a)\n",
    "print min(a)"
   ]
  },
  {
   "cell_type": "code",
   "execution_count": 6,
   "metadata": {},
   "outputs": [
    {
     "name": "stdout",
     "output_type": "stream",
     "text": [
      "the element 2 is not in a\n"
     ]
    }
   ],
   "source": [
    "# in and not in \n",
    "if 2 in a:\n",
    "    print 'the element 2 is in a'\n",
    "else:\n",
    "    print 'the element 2 is not in a'"
   ]
  },
  {
   "cell_type": "code",
   "execution_count": 7,
   "metadata": {},
   "outputs": [
    {
     "name": "stdout",
     "output_type": "stream",
     "text": [
      "[0, 1, 2, 3, 4, 5, 6, 7, 8, 9]\n"
     ]
    }
   ],
   "source": [
    "# append and extend\n",
    "a = range(10)\n",
    "print a \n",
    "a.append(10)"
   ]
  },
  {
   "cell_type": "code",
   "execution_count": 8,
   "metadata": {},
   "outputs": [
    {
     "name": "stdout",
     "output_type": "stream",
     "text": [
      "[0, 1, 2, 3, 4, 5, 6, 7, 8, 9, 10]\n"
     ]
    }
   ],
   "source": [
    "print a"
   ]
  },
  {
   "cell_type": "code",
   "execution_count": 9,
   "metadata": {},
   "outputs": [
    {
     "name": "stdout",
     "output_type": "stream",
     "text": [
      "[1, 'Roc', 'hello']\n"
     ]
    }
   ],
   "source": [
    "# stack\n",
    "a_stack = []\n",
    "a_stack.append(1)\n",
    "a_stack.append('Roc')\n",
    "a_stack.append(\"hello\")\n",
    "\n",
    "print a_stack"
   ]
  },
  {
   "cell_type": "code",
   "execution_count": 10,
   "metadata": {},
   "outputs": [
    {
     "name": "stdout",
     "output_type": "stream",
     "text": [
      "hello\n",
      "Roc\n",
      "1\n"
     ]
    }
   ],
   "source": [
    "print a_stack.pop()\n",
    "print a_stack.pop()\n",
    "print a_stack.pop()"
   ]
  },
  {
   "cell_type": "code",
   "execution_count": 11,
   "metadata": {},
   "outputs": [
    {
     "name": "stdout",
     "output_type": "stream",
     "text": [
      "['who', 'are', 'you']\n"
     ]
    }
   ],
   "source": [
    "# queue\n",
    "a_queue = []\n",
    "a_queue.append(\"who\")\n",
    "a_queue.append(\"are\")\n",
    "a_queue.append(\"you\")\n",
    "print a_queue"
   ]
  },
  {
   "cell_type": "code",
   "execution_count": 12,
   "metadata": {},
   "outputs": [
    {
     "name": "stdout",
     "output_type": "stream",
     "text": [
      "who\n",
      "are\n",
      "you\n"
     ]
    }
   ],
   "source": [
    "print a_queue.pop(0)\n",
    "print a_queue.pop(0)\n",
    "print a_queue.pop(0)"
   ]
  },
  {
   "cell_type": "code",
   "execution_count": 13,
   "metadata": {},
   "outputs": [
    {
     "name": "stdout",
     "output_type": "stream",
     "text": [
      "[2, 3, 12, 7, 6, 9, 4, 10, 13, 1, 14, 11, 5, 8, 0]\n"
     ]
    }
   ],
   "source": [
    "# shuffle , sort and reverse\n",
    "from random import shuffle\n",
    "a = range(15)\n",
    "shuffle(a)\n",
    "print a"
   ]
  },
  {
   "cell_type": "code",
   "execution_count": 14,
   "metadata": {},
   "outputs": [
    {
     "name": "stdout",
     "output_type": "stream",
     "text": [
      "[0, 1, 2, 3, 4, 5, 6, 7, 8, 9, 10, 11, 12, 13, 14]\n"
     ]
    }
   ],
   "source": [
    "a.sort()\n",
    "print a"
   ]
  },
  {
   "cell_type": "code",
   "execution_count": 15,
   "metadata": {},
   "outputs": [
    {
     "name": "stdout",
     "output_type": "stream",
     "text": [
      "[14, 13, 12, 11, 10, 9, 8, 7, 6, 5, 4, 3, 2, 1, 0]\n"
     ]
    }
   ],
   "source": [
    "a.reverse()\n",
    "print a"
   ]
  },
  {
   "cell_type": "markdown",
   "metadata": {},
   "source": [
    "#### 从一个列表创建一个列表\n"
   ]
  },
  {
   "cell_type": "code",
   "execution_count": 18,
   "metadata": {},
   "outputs": [
    {
     "name": "stdout",
     "output_type": "stream",
     "text": [
      "[25, 64]\n"
     ]
    }
   ],
   "source": [
    "# generate list from a list\n",
    "\n",
    "a = [1,3,5,0,-5,7,-8]\n",
    "\n",
    "b = [pow(x,2) for x in a if x<0]\n",
    "print b"
   ]
  },
  {
   "cell_type": "code",
   "execution_count": 19,
   "metadata": {},
   "outputs": [
    {
     "name": "stdout",
     "output_type": "stream",
     "text": [
      "{'a': 1, 'c': 25, 'b': 16}\n"
     ]
    }
   ],
   "source": [
    "# generate dict from dict\n",
    "a = {'a':1,'b':4,'c':5}\n",
    "b = {x:pow(y,2) for x,y in a.items()}\n",
    "print b"
   ]
  },
  {
   "cell_type": "code",
   "execution_count": 21,
   "metadata": {},
   "outputs": [
    {
     "name": "stdout",
     "output_type": "stream",
     "text": [
      "(1, 4, 1, 4, 'd', 'r', 9, 16, 9, 'e')\n"
     ]
    }
   ],
   "source": [
    "# tuple\n",
    "def process(x):\n",
    "    if isinstance(x,str):\n",
    "        return x.lower()\n",
    "    elif isinstance(x,int):\n",
    "        return x*x\n",
    "    else:\n",
    "        return -1\n",
    "a = (1,2,-1,-2,'D','R',3,4,-3,'E')\n",
    "b = tuple(process(x) for x in a)\n",
    "print b"
   ]
  },
  {
   "cell_type": "markdown",
   "metadata": {
    "collapsed": true
   },
   "source": [
    "### 列表排序"
   ]
  },
  {
   "cell_type": "code",
   "execution_count": 2,
   "metadata": {},
   "outputs": [
    {
     "name": "stdout",
     "output_type": "stream",
     "text": [
      "[0, 6, 4, 3, 2, 5, 8, 9, 1, 7]\n"
     ]
    }
   ],
   "source": [
    "# sort 和sorted不同\n",
    "from random import shuffle\n",
    "a = range(10)\n",
    "shuffle(a)\n",
    "print a"
   ]
  },
  {
   "cell_type": "code",
   "execution_count": 3,
   "metadata": {},
   "outputs": [
    {
     "name": "stdout",
     "output_type": "stream",
     "text": [
      "[0, 1, 2, 3, 4, 5, 6, 7, 8, 9]\n"
     ]
    }
   ],
   "source": [
    "# sort\n",
    "a.sort()\n",
    "print a"
   ]
  },
  {
   "cell_type": "code",
   "execution_count": 4,
   "metadata": {},
   "outputs": [
    {
     "name": "stdout",
     "output_type": "stream",
     "text": [
      "[5, 0, 2, 7, 9, 6, 4, 8, 1, 3]\n"
     ]
    }
   ],
   "source": [
    "b = range(10)\n",
    "shuffle(b)\n",
    "print b"
   ]
  },
  {
   "cell_type": "code",
   "execution_count": 5,
   "metadata": {
    "scrolled": true
   },
   "outputs": [
    {
     "name": "stdout",
     "output_type": "stream",
     "text": [
      "[0, 1, 2, 3, 4, 5, 6, 7, 8, 9]\n"
     ]
    }
   ],
   "source": [
    "print sorted(b)"
   ]
  },
  {
   "cell_type": "code",
   "execution_count": 6,
   "metadata": {},
   "outputs": [
    {
     "name": "stdout",
     "output_type": "stream",
     "text": [
      "[5, 0, 2, 7, 9, 6, 4, 8, 1, 3]\n"
     ]
    }
   ],
   "source": [
    "print b"
   ]
  }
 ],
 "metadata": {
  "kernelspec": {
   "display_name": "Python 2",
   "language": "python",
   "name": "python2"
  },
  "language_info": {
   "codemirror_mode": {
    "name": "ipython",
    "version": 2
   },
   "file_extension": ".py",
   "mimetype": "text/x-python",
   "name": "python",
   "nbconvert_exporter": "python",
   "pygments_lexer": "ipython2",
   "version": "2.7.12"
  }
 },
 "nbformat": 4,
 "nbformat_minor": 2
}
