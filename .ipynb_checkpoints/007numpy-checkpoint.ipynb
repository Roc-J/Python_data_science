{
 "cells": [
  {
   "cell_type": "markdown",
   "metadata": {},
   "source": [
    "### Numpy\n",
    "从表格数据使用数组  \n",
    "Numpy提供了一个genfromtxt函数可以从表格数据中创建数组，数据存放到Numpy数组中后，系统处理数据就轻松的多。"
   ]
  },
  {
   "cell_type": "code",
   "execution_count": 1,
   "metadata": {
    "collapsed": true
   },
   "outputs": [],
   "source": [
    "# use StringIo \n",
    "import numpy as np\n",
    "from StringIO import StringIO\n",
    "in_data = StringIO(\"10,20,30\\n45,65,23\\n33,54,62\")"
   ]
  },
  {
   "cell_type": "code",
   "execution_count": 2,
   "metadata": {},
   "outputs": [
    {
     "data": {
      "text/plain": [
       "array([[10, 20, 30],\n",
       "       [45, 65, 23],\n",
       "       [33, 54, 62]])"
      ]
     },
     "execution_count": 2,
     "metadata": {},
     "output_type": "execute_result"
    }
   ],
   "source": [
    "# 使用Numpy的genfromtxt来读取数据，并创建一个Numpy数组\n",
    "data = np.genfromtxt(in_data,dtype=int,delimiter=\",\")\n",
    "data"
   ]
  },
  {
   "cell_type": "code",
   "execution_count": 3,
   "metadata": {},
   "outputs": [
    {
     "data": {
      "text/plain": [
       "array([[10, 20],\n",
       "       [45, 65],\n",
       "       [33, 54]])"
      ]
     },
     "execution_count": 3,
     "metadata": {},
     "output_type": "execute_result"
    }
   ],
   "source": [
    "# clear some col that we don't use\n",
    "in_data = StringIO(\"10,20,30\\n45,65,23\\n33,54,62\")\n",
    "data = np.genfromtxt(in_data,dtype=int,delimiter=\",\",usecols=(0,1))\n",
    "data"
   ]
  },
  {
   "cell_type": "code",
   "execution_count": 4,
   "metadata": {},
   "outputs": [
    {
     "data": {
      "text/plain": [
       "array([(10, 20, 30), (45, 65, 23), (33, 54, 62)], \n",
       "      dtype=[('a', '<i4'), ('b', '<i4'), ('c', '<i4')])"
      ]
     },
     "execution_count": 4,
     "metadata": {},
     "output_type": "execute_result"
    }
   ],
   "source": [
    "# set column name\n",
    "in_data = StringIO(\"10,20,30\\n45,65,23\\n33,54,62\")\n",
    "data = np.genfromtxt(in_data,dtype=int,delimiter=',',names=\"a,b,c\")\n",
    "data"
   ]
  },
  {
   "cell_type": "markdown",
   "metadata": {},
   "source": [
    "也可以将第一行作为列名"
   ]
  },
  {
   "cell_type": "code",
   "execution_count": 5,
   "metadata": {},
   "outputs": [
    {
     "data": {
      "text/plain": [
       "array([(10, 20, 30), (45, 65, 23), (33, 54, 62)], \n",
       "      dtype=[('a', '<i4'), ('b', '<i4'), ('c', '<i4')])"
      ]
     },
     "execution_count": 5,
     "metadata": {},
     "output_type": "execute_result"
    }
   ],
   "source": [
    "in_data = StringIO(\"a,b,c\\n10,20,30\\n45,65,23\\n33,54,62\")\n",
    "data = np.genfromtxt(in_data,dtype=int,delimiter=',',names=True)\n",
    "data"
   ]
  },
  {
   "cell_type": "markdown",
   "metadata": {},
   "source": [
    "### 对列进行预处理"
   ]
  },
  {
   "cell_type": "code",
   "execution_count": 6,
   "metadata": {},
   "outputs": [
    {
     "data": {
      "text/plain": [
       "array([[    nan,     nan,   31.13,   56.45,    1.  ],\n",
       "       [    nan,     nan,   34.34,  346.2 ,    2.  ]])"
      ]
     },
     "execution_count": 6,
     "metadata": {},
     "output_type": "execute_result"
    }
   ],
   "source": [
    "# 首先看一下不进行预处理的结果\n",
    "# 30kg,inr2000,31.13,56.45,1\n",
    "# 45kg,inr3000,34.34,346.2,2\n",
    "\n",
    "in_data = StringIO('30kg,inr2000,31.13,56.45,1\\n45kg,inr3000,34.34,346.2,2')\n",
    "data = np.genfromtxt(in_data,delimiter=',')\n",
    "data"
   ]
  },
  {
   "cell_type": "markdown",
   "metadata": {},
   "source": [
    "可以看到输出结果中有nan出现的情况，这不是我们想要的结果\n",
    "\n",
    "因此处理这样的数据时，我们需要进行预处理"
   ]
  },
  {
   "cell_type": "code",
   "execution_count": 7,
   "metadata": {},
   "outputs": [
    {
     "data": {
      "text/plain": [
       "array([[  3.00000000e+01,   2.00000000e+03,   3.11300000e+01,\n",
       "          5.64500000e+01,   1.00000000e+00],\n",
       "       [  4.50000000e+01,   3.00000000e+03,   3.43400000e+01,\n",
       "          3.46200000e+02,   2.00000000e+00]])"
      ]
     },
     "execution_count": 7,
     "metadata": {},
     "output_type": "execute_result"
    }
   ],
   "source": [
    "import numpy as np\n",
    "from StringIO import StringIO\n",
    "\n",
    "# 定义一个数据集\n",
    "in_data = StringIO('30kg,inr2000,31.13,56.45,1\\n45kg,inr3000,34.34,346.2,2')\n",
    "\n",
    "# 使用模板预处理\n",
    "strip_func_1 = lambda x:float(x.rstrip('kg'))\n",
    "strip_func_2 = lambda x:float(x.lstrip('inr'))\n",
    "\n",
    "# 创建一个函数的字典\n",
    "convert_funcs = {0:strip_func_1,1:strip_func_2}\n",
    "\n",
    "# 将面板用到genfromtxt\n",
    "data = np.genfromtxt(in_data,delimiter=',',converters=convert_funcs)\n",
    "data"
   ]
  },
  {
   "cell_type": "markdown",
   "metadata": {},
   "source": [
    "当数据中有缺失值时"
   ]
  },
  {
   "cell_type": "code",
   "execution_count": 8,
   "metadata": {},
   "outputs": [
    {
     "data": {
      "text/plain": [
       "array([[ 10.,  20.,  30.],\n",
       "       [ 23.,  -1.,  34.],\n",
       "       [ 36.,  31.,  76.]])"
      ]
     },
     "execution_count": 8,
     "metadata": {},
     "output_type": "execute_result"
    }
   ],
   "source": [
    "in_data = StringIO('10,20,30\\n23,,34\\n36,31,76')\n",
    "miss_func = lambda x:float(x.strip() or -1)\n",
    "data = np.genfromtxt(in_data,delimiter=',',converters={1:miss_func})\n",
    "data"
   ]
  },
  {
   "cell_type": "markdown",
   "metadata": {
    "collapsed": true
   },
   "source": [
    "Numpy 是一个用来高效的处理数组和矩阵的python库  \n",
    "大多数python科学计算库中都在内部使用numpy处理数组和矩阵的操作"
   ]
  },
  {
   "cell_type": "code",
   "execution_count": 1,
   "metadata": {},
   "outputs": [
    {
     "name": "stdout",
     "output_type": "stream",
     "text": [
      "[1 2 3]\n",
      "[ 1.  2.  3.]\n"
     ]
    }
   ],
   "source": [
    "import numpy as np\n",
    "# 创建数组\n",
    "a_list = [1,2,3]\n",
    "an_array = np.array(a_list)\n",
    "print an_array\n",
    "# 指定数据类型\n",
    "an_array = np.array(a_list,dtype=float)\n",
    "print an_array"
   ]
  },
  {
   "cell_type": "code",
   "execution_count": 2,
   "metadata": {},
   "outputs": [
    {
     "name": "stdout",
     "output_type": "stream",
     "text": [
      "[[  1.   2.   3.]\n",
      " [  5.   6.   7.]\n",
      " [  8.   9.  10.]]\n"
     ]
    }
   ],
   "source": [
    "# 创建矩阵\n",
    "a_listoflist = [[1,2,3],[5,6,7],[8,9,10]]\n",
    "a_matrix = np.matrix(a_listoflist,dtype=float)\n",
    "print a_matrix"
   ]
  },
  {
   "cell_type": "code",
   "execution_count": 3,
   "metadata": {},
   "outputs": [
    {
     "name": "stdout",
     "output_type": "stream",
     "text": [
      "9\n"
     ]
    }
   ],
   "source": [
    "# 矩阵a元素个数\n",
    "print a_matrix.size"
   ]
  },
  {
   "cell_type": "code",
   "execution_count": 4,
   "metadata": {},
   "outputs": [
    {
     "name": "stdout",
     "output_type": "stream",
     "text": [
      "2\n"
     ]
    }
   ],
   "source": [
    "# 矩阵维度\n",
    "print a_matrix.ndim"
   ]
  },
  {
   "cell_type": "code",
   "execution_count": 6,
   "metadata": {},
   "outputs": [
    {
     "name": "stdout",
     "output_type": "stream",
     "text": [
      "(3, 3)\n"
     ]
    }
   ],
   "source": [
    "# 矩阵的行、列\n",
    "print a_matrix.shape"
   ]
  },
  {
   "cell_type": "code",
   "execution_count": 9,
   "metadata": {
    "collapsed": true
   },
   "outputs": [],
   "source": [
    "def display_shape(a):\n",
    "    print a\n",
    "    print 'Number of elements in a=%d'%(a.size)\n",
    "    print 'Number of dimensions in a = %d'%(a.ndim)\n",
    "    print 'Rows and cols in a',a.shape"
   ]
  },
  {
   "cell_type": "markdown",
   "metadata": {},
   "source": [
    "### numpy创建数组的方式"
   ]
  },
  {
   "cell_type": "code",
   "execution_count": 10,
   "metadata": {},
   "outputs": [
    {
     "name": "stdout",
     "output_type": "stream",
     "text": [
      "[ 1.  2.  3.  4.  5.  6.  7.  8.  9.]\n",
      "Number of elements in a=9\n",
      "Number of dimensions in a = 1\n",
      "Rows and cols in a (9,)\n"
     ]
    }
   ],
   "source": [
    "# 使用np.arange来创建\n",
    "created_array = np.arange(1,10,dtype=float)\n",
    "display_shape(created_array)"
   ]
  },
  {
   "cell_type": "code",
   "execution_count": 11,
   "metadata": {
    "scrolled": true
   },
   "outputs": [
    {
     "name": "stdout",
     "output_type": "stream",
     "text": [
      "[  1.           1.18367347   1.36734694   1.55102041   1.73469388\n",
      "   1.91836735   2.10204082   2.28571429   2.46938776   2.65306122\n",
      "   2.83673469   3.02040816   3.20408163   3.3877551    3.57142857\n",
      "   3.75510204   3.93877551   4.12244898   4.30612245   4.48979592\n",
      "   4.67346939   4.85714286   5.04081633   5.2244898    5.40816327\n",
      "   5.59183673   5.7755102    5.95918367   6.14285714   6.32653061\n",
      "   6.51020408   6.69387755   6.87755102   7.06122449   7.24489796\n",
      "   7.42857143   7.6122449    7.79591837   7.97959184   8.16326531\n",
      "   8.34693878   8.53061224   8.71428571   8.89795918   9.08163265\n",
      "   9.26530612   9.44897959   9.63265306   9.81632653  10.        ]\n",
      "Number of elements in a=50\n",
      "Number of dimensions in a = 1\n",
      "Rows and cols in a (50,)\n"
     ]
    }
   ],
   "source": [
    "# 使用np.linspace来创建\n",
    "# 使用linspace,我们知道在给定的范围里有多少个元素。默认情况下，返回50个元素\n",
    "created_array = np.linspace(1,10)\n",
    "display_shape(created_array)"
   ]
  },
  {
   "cell_type": "code",
   "execution_count": 12,
   "metadata": {
    "scrolled": true
   },
   "outputs": [
    {
     "name": "stdout",
     "output_type": "stream",
     "text": [
      "[  1.00000000e+01   1.52641797e+01   2.32995181e+01   3.55648031e+01\n",
      "   5.42867544e+01   8.28642773e+01   1.26485522e+02   1.93069773e+02\n",
      "   2.94705170e+02   4.49843267e+02   6.86648845e+02   1.04811313e+03\n",
      "   1.59985872e+03   2.44205309e+03   3.72759372e+03   5.68986603e+03\n",
      "   8.68511374e+03   1.32571137e+04   2.02358965e+04   3.08884360e+04\n",
      "   4.71486636e+04   7.19685673e+04   1.09854114e+05   1.67683294e+05\n",
      "   2.55954792e+05   3.90693994e+05   5.96362332e+05   9.10298178e+05\n",
      "   1.38949549e+06   2.12095089e+06   3.23745754e+06   4.94171336e+06\n",
      "   7.54312006e+06   1.15139540e+07   1.75751062e+07   2.68269580e+07\n",
      "   4.09491506e+07   6.25055193e+07   9.54095476e+07   1.45634848e+08\n",
      "   2.22299648e+08   3.39322177e+08   5.17947468e+08   7.90604321e+08\n",
      "   1.20679264e+09   1.84206997e+09   2.81176870e+09   4.29193426e+09\n",
      "   6.55128557e+09   1.00000000e+10]\n",
      "Number of elements in a=50\n",
      "Number of dimensions in a = 1\n",
      "Rows and cols in a (50,)\n"
     ]
    }
   ],
   "source": [
    "# 使用np.logspace来创建Numpy数组\n",
    "created_array = np.logspace(1,10,base=10.0)\n",
    "display_shape(created_array)"
   ]
  },
  {
   "cell_type": "code",
   "execution_count": 13,
   "metadata": {},
   "outputs": [
    {
     "name": "stdout",
     "output_type": "stream",
     "text": [
      "[1 3 5 7 9]\n",
      "Number of elements in a=5\n",
      "Number of dimensions in a = 1\n",
      "Rows and cols in a (5,)\n"
     ]
    }
   ],
   "source": [
    "# arange 指定步长\n",
    "created_array = np.arange(1,10,2,dtype=int)\n",
    "display_shape(created_array)"
   ]
  },
  {
   "cell_type": "code",
   "execution_count": 14,
   "metadata": {},
   "outputs": [
    {
     "name": "stdout",
     "output_type": "stream",
     "text": [
      "[[ 1.  1.  1.]\n",
      " [ 1.  1.  1.]\n",
      " [ 1.  1.  1.]]\n",
      "Number of elements in a=9\n",
      "Number of dimensions in a = 2\n",
      "Rows and cols in a (3, 3)\n"
     ]
    }
   ],
   "source": [
    "# 创建一个所以元素都是1的特殊矩阵\n",
    "ones_matrix = np.ones((3,3))\n",
    "display_shape(ones_matrix)"
   ]
  },
  {
   "cell_type": "code",
   "execution_count": 15,
   "metadata": {},
   "outputs": [
    {
     "name": "stdout",
     "output_type": "stream",
     "text": [
      "[[ 0.  0.  0.]\n",
      " [ 0.  0.  0.]\n",
      " [ 0.  0.  0.]]\n",
      "Number of elements in a=9\n",
      "Number of dimensions in a = 2\n",
      "Rows and cols in a (3, 3)\n"
     ]
    }
   ],
   "source": [
    "# 创建一个所有元素都为0的矩阵\n",
    "zeros_matrix = np.zeros((3,3))\n",
    "display_shape(zeros_matrix)"
   ]
  },
  {
   "cell_type": "code",
   "execution_count": 16,
   "metadata": {},
   "outputs": [
    {
     "name": "stdout",
     "output_type": "stream",
     "text": [
      "[[ 1.  0.  0.]\n",
      " [ 0.  1.  0.]\n",
      " [ 0.  0.  1.]]\n",
      "Number of elements in a=9\n",
      "Number of dimensions in a = 2\n",
      "Rows and cols in a (3, 3)\n"
     ]
    }
   ],
   "source": [
    "# 验证矩阵\n",
    "identity_matrix = np.eye(N=3,M=3,k=0)\n",
    "display_shape(identity_matrix)"
   ]
  },
  {
   "cell_type": "markdown",
   "metadata": {},
   "source": [
    "参数k控制了从1开始的索引值\n"
   ]
  },
  {
   "cell_type": "code",
   "execution_count": 17,
   "metadata": {},
   "outputs": [
    {
     "name": "stdout",
     "output_type": "stream",
     "text": [
      "[[ 0.  1.  0.]\n",
      " [ 0.  0.  1.]\n",
      " [ 0.  0.  0.]]\n",
      "Number of elements in a=9\n",
      "Number of dimensions in a = 2\n",
      "Rows and cols in a (3, 3)\n"
     ]
    }
   ],
   "source": [
    "identity_matrix = np.eye(N=3,M=3,k=1)\n",
    "display_shape(identity_matrix)"
   ]
  },
  {
   "cell_type": "markdown",
   "metadata": {},
   "source": [
    "reshape函数可以控制数组的形态"
   ]
  },
  {
   "cell_type": "code",
   "execution_count": 18,
   "metadata": {},
   "outputs": [
    {
     "name": "stdout",
     "output_type": "stream",
     "text": [
      "[[0 1 2]\n",
      " [3 4 5]\n",
      " [6 7 8]]\n",
      "Number of elements in a=9\n",
      "Number of dimensions in a = 2\n",
      "Rows and cols in a (3, 3)\n"
     ]
    }
   ],
   "source": [
    "a_matrix = np.arange(9).reshape(3,3)\n",
    "display_shape(a_matrix)"
   ]
  },
  {
   "cell_type": "markdown",
   "metadata": {},
   "source": [
    "raval和flatten函数可以将矩阵转化为一维数组  \n"
   ]
  },
  {
   "cell_type": "markdown",
   "metadata": {},
   "source": [
    "### 随机数"
   ]
  },
  {
   "cell_type": "code",
   "execution_count": 19,
   "metadata": {},
   "outputs": [
    {
     "name": "stdout",
     "output_type": "stream",
     "text": [
      "[43 37 68 28 70 43 44 13 17 95]\n"
     ]
    }
   ],
   "source": [
    "# 产生1-100的10个随机整数\n",
    "general_random_numbers = np.random.randint(1,100,size=10)\n",
    "print general_random_numbers"
   ]
  },
  {
   "cell_type": "code",
   "execution_count": 20,
   "metadata": {},
   "outputs": [
    {
     "name": "stdout",
     "output_type": "stream",
     "text": [
      "[ 0.31560127  0.38196501 -0.09393321  0.39450662  0.36126174 -0.02476259\n",
      "  0.13728167  0.19001759  0.24057992 -0.27137875]\n"
     ]
    }
   ],
   "source": [
    "# 使用normal包\n",
    "uniform_rnd_numbers = np.random.normal(loc=0.2,scale=0.2,size=10)\n",
    "print uniform_rnd_numbers"
   ]
  },
  {
   "cell_type": "code",
   "execution_count": 21,
   "metadata": {},
   "outputs": [
    {
     "name": "stdout",
     "output_type": "stream",
     "text": [
      "[[ 0.33783552  0.21471375  0.60085734]\n",
      " [ 0.10925539 -0.0676383   0.09488882]\n",
      " [ 0.02735518  0.16188257  0.09601844]]\n"
     ]
    }
   ],
   "source": [
    "uniform_rnd_numbers = np.random.normal(loc=0.2,scale=0.2,size=(3,3))\n",
    "print uniform_rnd_numbers"
   ]
  }
 ],
 "metadata": {
  "kernelspec": {
   "display_name": "Python 2",
   "language": "python",
   "name": "python2"
  },
  "language_info": {
   "codemirror_mode": {
    "name": "ipython",
    "version": 2
   },
   "file_extension": ".py",
   "mimetype": "text/x-python",
   "name": "python",
   "nbconvert_exporter": "python",
   "pygments_lexer": "ipython2",
   "version": "2.7.12"
  }
 },
 "nbformat": 4,
 "nbformat_minor": 2
}
