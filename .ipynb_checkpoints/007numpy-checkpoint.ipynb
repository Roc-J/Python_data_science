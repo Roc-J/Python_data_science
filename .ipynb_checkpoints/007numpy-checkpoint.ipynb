{
 "cells": [
  {
   "cell_type": "markdown",
   "metadata": {},
   "source": [
    "### Numpy\n",
    "从表格数据使用数组  \n",
    "Numpy提供了一个genfromtxt函数可以从表格数据中创建数组，数据存放到Numpy数组中后，系统处理数据就轻松的多。"
   ]
  },
  {
   "cell_type": "code",
   "execution_count": 1,
   "metadata": {
    "collapsed": true
   },
   "outputs": [],
   "source": [
    "# use StringIo \n",
    "import numpy as np\n",
    "from StringIO import StringIO\n",
    "in_data = StringIO(\"10,20,30\\n45,65,23\\n33,54,62\")"
   ]
  },
  {
   "cell_type": "code",
   "execution_count": 2,
   "metadata": {},
   "outputs": [
    {
     "data": {
      "text/plain": [
       "array([[10, 20, 30],\n",
       "       [45, 65, 23],\n",
       "       [33, 54, 62]])"
      ]
     },
     "execution_count": 2,
     "metadata": {},
     "output_type": "execute_result"
    }
   ],
   "source": [
    "# 使用Numpy的genfromtxt来读取数据，并创建一个Numpy数组\n",
    "data = np.genfromtxt(in_data,dtype=int,delimiter=\",\")\n",
    "data"
   ]
  },
  {
   "cell_type": "code",
   "execution_count": 3,
   "metadata": {},
   "outputs": [
    {
     "data": {
      "text/plain": [
       "array([[10, 20],\n",
       "       [45, 65],\n",
       "       [33, 54]])"
      ]
     },
     "execution_count": 3,
     "metadata": {},
     "output_type": "execute_result"
    }
   ],
   "source": [
    "# clear some col that we don't use\n",
    "in_data = StringIO(\"10,20,30\\n45,65,23\\n33,54,62\")\n",
    "data = np.genfromtxt(in_data,dtype=int,delimiter=\",\",usecols=(0,1))\n",
    "data"
   ]
  },
  {
   "cell_type": "code",
   "execution_count": 4,
   "metadata": {},
   "outputs": [
    {
     "data": {
      "text/plain": [
       "array([(10, 20, 30), (45, 65, 23), (33, 54, 62)], \n",
       "      dtype=[('a', '<i4'), ('b', '<i4'), ('c', '<i4')])"
      ]
     },
     "execution_count": 4,
     "metadata": {},
     "output_type": "execute_result"
    }
   ],
   "source": [
    "# set column name\n",
    "in_data = StringIO(\"10,20,30\\n45,65,23\\n33,54,62\")\n",
    "data = np.genfromtxt(in_data,dtype=int,delimiter=',',names=\"a,b,c\")\n",
    "data"
   ]
  },
  {
   "cell_type": "markdown",
   "metadata": {},
   "source": [
    "也可以将第一行作为列名"
   ]
  },
  {
   "cell_type": "code",
   "execution_count": 5,
   "metadata": {},
   "outputs": [
    {
     "data": {
      "text/plain": [
       "array([(10, 20, 30), (45, 65, 23), (33, 54, 62)], \n",
       "      dtype=[('a', '<i4'), ('b', '<i4'), ('c', '<i4')])"
      ]
     },
     "execution_count": 5,
     "metadata": {},
     "output_type": "execute_result"
    }
   ],
   "source": [
    "in_data = StringIO(\"a,b,c\\n10,20,30\\n45,65,23\\n33,54,62\")\n",
    "data = np.genfromtxt(in_data,dtype=int,delimiter=',',names=True)\n",
    "data"
   ]
  },
  {
   "cell_type": "markdown",
   "metadata": {},
   "source": [
    "### 对列进行预处理"
   ]
  },
  {
   "cell_type": "code",
   "execution_count": 6,
   "metadata": {},
   "outputs": [
    {
     "data": {
      "text/plain": [
       "array([[    nan,     nan,   31.13,   56.45,    1.  ],\n",
       "       [    nan,     nan,   34.34,  346.2 ,    2.  ]])"
      ]
     },
     "execution_count": 6,
     "metadata": {},
     "output_type": "execute_result"
    }
   ],
   "source": [
    "# 首先看一下不进行预处理的结果\n",
    "# 30kg,inr2000,31.13,56.45,1\n",
    "# 45kg,inr3000,34.34,346.2,2\n",
    "\n",
    "in_data = StringIO('30kg,inr2000,31.13,56.45,1\\n45kg,inr3000,34.34,346.2,2')\n",
    "data = np.genfromtxt(in_data,delimiter=',')\n",
    "data"
   ]
  },
  {
   "cell_type": "markdown",
   "metadata": {},
   "source": [
    "可以看到输出结果中有nan出现的情况，这不是我们想要的结果\n",
    "\n",
    "因此处理这样的数据时，我们需要进行预处理"
   ]
  },
  {
   "cell_type": "code",
   "execution_count": 7,
   "metadata": {},
   "outputs": [
    {
     "data": {
      "text/plain": [
       "array([[  3.00000000e+01,   2.00000000e+03,   3.11300000e+01,\n",
       "          5.64500000e+01,   1.00000000e+00],\n",
       "       [  4.50000000e+01,   3.00000000e+03,   3.43400000e+01,\n",
       "          3.46200000e+02,   2.00000000e+00]])"
      ]
     },
     "execution_count": 7,
     "metadata": {},
     "output_type": "execute_result"
    }
   ],
   "source": [
    "import numpy as np\n",
    "from StringIO import StringIO\n",
    "\n",
    "# 定义一个数据集\n",
    "in_data = StringIO('30kg,inr2000,31.13,56.45,1\\n45kg,inr3000,34.34,346.2,2')\n",
    "\n",
    "# 使用模板预处理\n",
    "strip_func_1 = lambda x:float(x.rstrip('kg'))\n",
    "strip_func_2 = lambda x:float(x.lstrip('inr'))\n",
    "\n",
    "# 创建一个函数的字典\n",
    "convert_funcs = {0:strip_func_1,1:strip_func_2}\n",
    "\n",
    "# 将面板用到genfromtxt\n",
    "data = np.genfromtxt(in_data,delimiter=',',converters=convert_funcs)\n",
    "data"
   ]
  },
  {
   "cell_type": "markdown",
   "metadata": {},
   "source": [
    "当数据中有缺失值时"
   ]
  },
  {
   "cell_type": "code",
   "execution_count": 8,
   "metadata": {},
   "outputs": [
    {
     "data": {
      "text/plain": [
       "array([[ 10.,  20.,  30.],\n",
       "       [ 23.,  -1.,  34.],\n",
       "       [ 36.,  31.,  76.]])"
      ]
     },
     "execution_count": 8,
     "metadata": {},
     "output_type": "execute_result"
    }
   ],
   "source": [
    "in_data = StringIO('10,20,30\\n23,,34\\n36,31,76')\n",
    "miss_func = lambda x:float(x.strip() or -1)\n",
    "data = np.genfromtxt(in_data,delimiter=',',converters={1:miss_func})\n",
    "data"
   ]
  },
  {
   "cell_type": "code",
   "execution_count": null,
   "metadata": {
    "collapsed": true
   },
   "outputs": [],
   "source": []
  }
 ],
 "metadata": {
  "kernelspec": {
   "display_name": "Python 2",
   "language": "python",
   "name": "python2"
  },
  "language_info": {
   "codemirror_mode": {
    "name": "ipython",
    "version": 2
   },
   "file_extension": ".py",
   "mimetype": "text/x-python",
   "name": "python",
   "nbconvert_exporter": "python",
   "pygments_lexer": "ipython2",
   "version": "2.7.12"
  }
 },
 "nbformat": 4,
 "nbformat_minor": 2
}
