{
 "cells": [
  {
   "cell_type": "markdown",
   "metadata": {},
   "source": [
    "### 使用set来  \n",
    "集合用来删除重复的值\n",
    "\n",
    "使用jaccard系数来计算2句话的相似度"
   ]
  },
  {
   "cell_type": "code",
   "execution_count": null,
   "metadata": {
    "collapsed": true
   },
   "outputs": [],
   "source": [
    "#初始化2个句子\n",
    "\n",
    "st_1 = \"you are beautiful\"\n",
    "st_2 = \"you are a beauty\"\n",
    "\n",
    "# 创建集合\n",
    "st_1_words = set(st_1.split())\n",
    "st_2_words = set(st_2.split())\n",
    "\n",
    "# 每个集合的大小\n",
    "c_st_1_words = len(st_1_words)\n",
    "c_st_2_words = len(st_2_words)\n",
    "\n",
    "# 两个集合共有的词\n",
    "com_words = st_1_words.intersection(st_2_words)\n",
    "c_com_words = len(com_words)\n",
    "\n",
    "# 两个集合不重复的词"
   ]
  }
 ],
 "metadata": {
  "kernelspec": {
   "display_name": "Python 2",
   "language": "python",
   "name": "python2"
  },
  "language_info": {
   "codemirror_mode": {
    "name": "ipython",
    "version": 2
   },
   "file_extension": ".py",
   "mimetype": "text/x-python",
   "name": "python",
   "nbconvert_exporter": "python",
   "pygments_lexer": "ipython2",
   "version": "2.7.12"
  }
 },
 "nbformat": 4,
 "nbformat_minor": 2
}
