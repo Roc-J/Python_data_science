{
 "cells": [
  {
   "cell_type": "markdown",
   "metadata": {},
   "source": [
    "### 键排序"
   ]
  },
  {
   "cell_type": "code",
   "execution_count": 1,
   "metadata": {},
   "outputs": [
    {
     "data": {
      "text/plain": [
       "[('Joe', 1, 54),\n",
       " ('Roc', 4, 24),\n",
       " ('Tom', 2, 19),\n",
       " ('Lisy', 3, 20),\n",
       " ('Shaly', 6, 21),\n",
       " ('Jim', 5, 22)]"
      ]
     },
     "execution_count": 1,
     "metadata": {},
     "output_type": "execute_result"
    }
   ],
   "source": [
    "# 首先创建一个元组组成的列表来测试排序\n",
    "\n",
    "employee_records = [('Joe',1,54),('Roc',4,24),('Tom',2,19),('Lisy',3,20),('Shaly',6,21),('Jim',5,22)]\n",
    "employee_records"
   ]
  },
  {
   "cell_type": "code",
   "execution_count": 2,
   "metadata": {},
   "outputs": [
    {
     "name": "stdout",
     "output_type": "stream",
     "text": [
      "[('Jim', 5, 22), ('Joe', 1, 54), ('Lisy', 3, 20), ('Roc', 4, 24), ('Shaly', 6, 21), ('Tom', 2, 19)]\n"
     ]
    }
   ],
   "source": [
    "# 使用名字进行排序\n",
    "print sorted(employee_records,key=lambda emp:emp[0])"
   ]
  },
  {
   "cell_type": "code",
   "execution_count": 3,
   "metadata": {},
   "outputs": [
    {
     "name": "stdout",
     "output_type": "stream",
     "text": [
      "[('Joe', 1, 54), ('Tom', 2, 19), ('Lisy', 3, 20), ('Roc', 4, 24), ('Jim', 5, 22), ('Shaly', 6, 21)]\n"
     ]
    }
   ],
   "source": [
    "# ID排序\n",
    "print sorted(employee_records,key=lambda emp:emp[1])"
   ]
  },
  {
   "cell_type": "code",
   "execution_count": 4,
   "metadata": {},
   "outputs": [
    {
     "name": "stdout",
     "output_type": "stream",
     "text": [
      "[('Tom', 2, 19), ('Lisy', 3, 20), ('Shaly', 6, 21), ('Jim', 5, 22), ('Roc', 4, 24), ('Joe', 1, 54)]\n"
     ]
    }
   ],
   "source": [
    "# 年龄排序\n",
    "print sorted(employee_records,key=lambda emp:emp[2])"
   ]
  },
  {
   "cell_type": "markdown",
   "metadata": {},
   "source": [
    "### 使用operator操作符"
   ]
  },
  {
   "cell_type": "code",
   "execution_count": 5,
   "metadata": {
    "scrolled": true
   },
   "outputs": [
    {
     "name": "stdout",
     "output_type": "stream",
     "text": [
      "[('Joe', 1, 54), ('Tom', 2, 19), ('Lisy', 3, 20), ('Roc', 4, 24), ('Jim', 5, 22), ('Shaly', 6, 21)]\n"
     ]
    }
   ],
   "source": [
    "from operator import itemgetter\n",
    "\n",
    "employee_records = [('Joe',1,54),('Roc',4,24),('Tom',2,19),('Lisy',3,20),('Shaly',6,21),('Jim',5,22)]\n",
    "\n",
    "print sorted(employee_records,key=itemgetter(1))"
   ]
  },
  {
   "cell_type": "markdown",
   "metadata": {},
   "source": [
    "itemgetter 可以接受多个用来排序的域"
   ]
  },
  {
   "cell_type": "code",
   "execution_count": 6,
   "metadata": {
    "scrolled": true
   },
   "outputs": [
    {
     "name": "stdout",
     "output_type": "stream",
     "text": [
      "[('Jim', 5, 22), ('Joe', 1, 54), ('Lisy', 3, 20), ('Roc', 4, 24), ('Shaly', 6, 21), ('Tom', 2, 19)]\n"
     ]
    }
   ],
   "source": [
    "print sorted(employee_records,key=itemgetter(0,1))"
   ]
  },
  {
   "cell_type": "markdown",
   "metadata": {},
   "source": [
    "### 如果可迭代对象里的元素是类对象，则可以用attrgetter和methodcaller"
   ]
  },
  {
   "cell_type": "code",
   "execution_count": 7,
   "metadata": {},
   "outputs": [
    {
     "name": "stdout",
     "output_type": "stream",
     "text": [
      "koe 1 25\n",
      "roc 3 24\n",
      "jim 2 24\n"
     ]
    }
   ],
   "source": [
    "# 将雇员记录封装成类\n",
    "\n",
    "class employee():\n",
    "    \n",
    "    def __init__(self,name,id,age):\n",
    "        self.name = name\n",
    "        self.id = id\n",
    "        self.age = age\n",
    "        \n",
    "    def attr_print(self):\n",
    "        print self.name,self.id,self.age\n",
    "        \n",
    "        \n",
    "employee_records = []\n",
    "emp1 = employee('koe',1,25)\n",
    "emp2 = employee('roc',3,24)\n",
    "emp3 = employee('jim',2,24)\n",
    "\n",
    "employee_records.append(emp1)\n",
    "employee_records.append(emp2)\n",
    "employee_records.append(emp3)\n",
    "\n",
    "# print\n",
    "for emp in employee_records:\n",
    "    emp.attr_print()"
   ]
  },
  {
   "cell_type": "code",
   "execution_count": 9,
   "metadata": {},
   "outputs": [
    {
     "name": "stdout",
     "output_type": "stream",
     "text": [
      "3\n",
      "roc 3 24\n",
      "None\n",
      "jim 2 24\n",
      "None\n",
      "koe 1 25\n",
      "None\n"
     ]
    }
   ],
   "source": [
    "from operator import attrgetter\n",
    "\n",
    "employee_records_sorted = sorted(employee_records,key=attrgetter('age'))\n",
    "\n",
    "for emp in employee_records_sorted:\n",
    "    print emp.attr_print()\n"
   ]
  },
  {
   "cell_type": "code",
   "execution_count": null,
   "metadata": {
    "collapsed": true
   },
   "outputs": [],
   "source": []
  }
 ],
 "metadata": {
  "kernelspec": {
   "display_name": "Python 2",
   "language": "python",
   "name": "python2"
  },
  "language_info": {
   "codemirror_mode": {
    "name": "ipython",
    "version": 2
   },
   "file_extension": ".py",
   "mimetype": "text/x-python",
   "name": "python",
   "nbconvert_exporter": "python",
   "pygments_lexer": "ipython2",
   "version": "2.7.12"
  }
 },
 "nbformat": 4,
 "nbformat_minor": 2
}
