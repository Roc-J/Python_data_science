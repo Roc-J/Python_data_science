{
 "cells": [
  {
   "cell_type": "markdown",
   "metadata": {},
   "source": [
    "### 函数作为变量传递"
   ]
  },
  {
   "cell_type": "code",
   "execution_count": 1,
   "metadata": {},
   "outputs": [
    {
     "name": "stdout",
     "output_type": "stream",
     "text": [
      "9\n"
     ]
    }
   ],
   "source": [
    "def square_input(x):\n",
    "    return x**2\n",
    "\n",
    "square_my = square_input\n",
    "print square_my(3)"
   ]
  },
  {
   "cell_type": "markdown",
   "metadata": {},
   "source": [
    "在函数中在定义一个函数"
   ]
  },
  {
   "cell_type": "code",
   "execution_count": 2,
   "metadata": {},
   "outputs": [
    {
     "name": "stdout",
     "output_type": "stream",
     "text": [
      "328350\n"
     ]
    }
   ],
   "source": [
    "def sum_square(x):\n",
    "    def square_input(x):\n",
    "        return x*x\n",
    "    return sum([square_input(x1) for x1 in x])\n",
    "\n",
    "print sum_square(range(1,100))"
   ]
  },
  {
   "cell_type": "markdown",
   "metadata": {},
   "source": [
    "将函数作为一个参数传递"
   ]
  },
  {
   "cell_type": "code",
   "execution_count": 3,
   "metadata": {},
   "outputs": [
    {
     "name": "stdout",
     "output_type": "stream",
     "text": [
      "[4, 9, 16]\n",
      "[0.6931471805599453, 1.0986122886681098, 1.3862943611198906]\n"
     ]
    }
   ],
   "source": [
    "from math import log\n",
    "\n",
    "def square_input(x):\n",
    "    return x*x\n",
    "\n",
    "# 定义一个函数，将另一个函数作为参数\n",
    "def apply_func(func_x,input_x):\n",
    "    return map(func_x,input_x)\n",
    "\n",
    "a = [2,3,4]\n",
    "print apply_func(square_input,a)\n",
    "print apply_func(log,a)"
   ]
  },
  {
   "cell_type": "markdown",
   "metadata": {},
   "source": [
    "返回一个函数"
   ]
  },
  {
   "cell_type": "code",
   "execution_count": 4,
   "metadata": {},
   "outputs": [
    {
     "name": "stdout",
     "output_type": "stream",
     "text": [
      "volume of cylinder of radius 10 and height 10 = 3141.00 cubic unit\n",
      "volume of cylinder of radius 10 and height 20 = 6282.00 cubic unit\n"
     ]
    }
   ],
   "source": [
    "# 定义一个函数来演示在函数中的返回函数的概念\n",
    "def cylinder_vol(r):\n",
    "    pi = 3.141\n",
    "    def get_vol(h):\n",
    "        return pi*r**2*h\n",
    "    return get_vol\n",
    "\n",
    "# 给一个半径\n",
    "radius = 10\n",
    "find_volumn = cylinder_vol(radius)\n",
    "\n",
    "# 给不同的高度值，求解圆柱体的体积\n",
    "height = 10\n",
    "print 'volume of cylinder of radius %d and height %d = %.2f cubic unit' % (radius,height,find_volumn(height))\n",
    "height = 20\n",
    "print 'volume of cylinder of radius %d and height %d = %.2f cubic unit' % (radius,height,find_volumn(height))\n"
   ]
  },
  {
   "cell_type": "markdown",
   "metadata": {},
   "source": [
    "使用装饰器改变函数的行为"
   ]
  },
  {
   "cell_type": "code",
   "execution_count": 8,
   "metadata": {},
   "outputs": [
    {
     "name": "stdout",
     "output_type": "stream",
     "text": [
      "['string', 'with', 'punctuation']\n"
     ]
    }
   ],
   "source": [
    "from string import punctuation\n",
    "\n",
    "def pipeline_wrapper(func):\n",
    "    def to_lower(x):\n",
    "        return x.lower()\n",
    "    \n",
    "    def remove_punc(x):\n",
    "        for p in punctuation:\n",
    "            x = x.replace(p,'')\n",
    "        return x\n",
    "        \n",
    "    def wrapper(*args,**kwargs):\n",
    "        x = to_lower(*args,**kwargs)\n",
    "        x = remove_punc(x)\n",
    "        return func(x)\n",
    "    return wrapper\n",
    "\n",
    "@pipeline_wrapper\n",
    "def tokenize_whitespace(inText):\n",
    "    return inText.split()\n",
    "\n",
    "s = \"string. with. Punctuation\"\n",
    "print tokenize_whitespace(s)"
   ]
  },
  {
   "cell_type": "markdown",
   "metadata": {},
   "source": [
    "### lambda创造匿名函数"
   ]
  },
  {
   "cell_type": "code",
   "execution_count": 9,
   "metadata": {},
   "outputs": [
    {
     "name": "stdout",
     "output_type": "stream",
     "text": [
      "1400\n",
      "36000\n",
      "[<function <lambda> at 0x047507F0>, <function <lambda> at 0x047508F0>, <function <lambda> at 0x047504F0>]\n"
     ]
    }
   ],
   "source": [
    "# 创建一个简单的列表\n",
    "a = [10,20,30]\n",
    "\n",
    "def do_list(a_list,func):\n",
    "    total = 0\n",
    "    for element in a_list:\n",
    "        total += func(element)\n",
    "    return total\n",
    "\n",
    "# 匿名函数\n",
    "print do_list(a,lambda x:x**2)\n",
    "print do_list(a,lambda x:x**3)\n",
    "\n",
    "b = [lambda x: x%3==0 for x in a]\n",
    "print b"
   ]
  },
  {
   "cell_type": "markdown",
   "metadata": {},
   "source": [
    "### filter过滤函数"
   ]
  },
  {
   "cell_type": "code",
   "execution_count": 10,
   "metadata": {},
   "outputs": [
    {
     "name": "stdout",
     "output_type": "stream",
     "text": [
      "[30, 40, 50]\n"
     ]
    }
   ],
   "source": [
    "a = [10,20,30,40,50]\n",
    "\n",
    "print filter(lambda x:x>20,a)"
   ]
  },
  {
   "cell_type": "markdown",
   "metadata": {},
   "source": [
    "### zip函数用来将两个相同长度的集合合并成对"
   ]
  },
  {
   "cell_type": "code",
   "execution_count": 11,
   "metadata": {},
   "outputs": [
    {
     "name": "stdout",
     "output_type": "stream",
     "text": [
      "[(1, 1), (2, 2), (3, 3)]\n"
     ]
    }
   ],
   "source": [
    "print zip(range(1,4),range(1,4))"
   ]
  },
  {
   "cell_type": "code",
   "execution_count": 12,
   "metadata": {},
   "outputs": [
    {
     "name": "stdout",
     "output_type": "stream",
     "text": [
      "16\n"
     ]
    }
   ],
   "source": [
    "# *操作符用来将集合中的每个元素作为位置参数传递\n",
    "a = (2,4)\n",
    "print pow(*a)"
   ]
  },
  {
   "cell_type": "markdown",
   "metadata": {},
   "source": [
    "### **操作符将字典中的元素变成命名参数进行传递"
   ]
  }
 ],
 "metadata": {
  "kernelspec": {
   "display_name": "Python 2",
   "language": "python",
   "name": "python2"
  },
  "language_info": {
   "codemirror_mode": {
    "name": "ipython",
    "version": 2
   },
   "file_extension": ".py",
   "mimetype": "text/x-python",
   "name": "python",
   "nbconvert_exporter": "python",
   "pygments_lexer": "ipython2",
   "version": "2.7.12"
  }
 },
 "nbformat": 4,
 "nbformat_minor": 2
}
