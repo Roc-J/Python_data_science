{
 "cells": [
  {
   "cell_type": "markdown",
   "metadata": {},
   "source": [
    "### 使用迭代器\n",
    "\n",
    "Python中的迭代器实现了一种迭代器模式，让我们能够一个接一个的处理一个序列，但不需要真正实现整个序列\n",
    "在数据科学中，面对数据集特别大，内存不够的时候可以使用迭代器来逐个读取数据"
   ]
  },
  {
   "cell_type": "markdown",
   "metadata": {},
   "source": [
    "定义了一个类SimpleCounter，在Python中想要成为一个迭代器的对象必须支持这两个函数，__iter__和next。__iter__函数用来返回整个类对象作为一个迭代器对象，next对象返回迭代器中的下一个值"
   ]
  },
  {
   "cell_type": "code",
   "execution_count": 1,
   "metadata": {
    "collapsed": true
   },
   "outputs": [],
   "source": [
    "# write a simple iterator\n",
    "class SimpleCounter(object):\n",
    "    def __init__(self,start,end):\n",
    "        self.current = start\n",
    "        self.end = end\n",
    "    \n",
    "    def __iter__(self):\n",
    "        return self\n",
    "    \n",
    "    def next(self):\n",
    "        if self.current > self.end:\n",
    "            raise StopIteration\n",
    "        else:\n",
    "            self.current +=1\n",
    "            return self.current - 1\n",
    "        \n",
    "# access the iterator\n",
    "c = SimpleCounter(1,5)"
   ]
  },
  {
   "cell_type": "code",
   "execution_count": 7,
   "metadata": {},
   "outputs": [
    {
     "ename": "StopIteration",
     "evalue": "",
     "output_type": "error",
     "traceback": [
      "\u001b[1;31m---------------------------------------------------------------------------\u001b[0m",
      "\u001b[1;31mStopIteration\u001b[0m                             Traceback (most recent call last)",
      "\u001b[1;32m<ipython-input-7-81c4998b88a1>\u001b[0m in \u001b[0;36m<module>\u001b[1;34m()\u001b[0m\n\u001b[1;32m----> 1\u001b[1;33m \u001b[1;32mprint\u001b[0m \u001b[0mc\u001b[0m\u001b[1;33m.\u001b[0m\u001b[0mnext\u001b[0m\u001b[1;33m(\u001b[0m\u001b[1;33m)\u001b[0m\u001b[1;33m\u001b[0m\u001b[0m\n\u001b[0m",
      "\u001b[1;32m<ipython-input-1-e41dd6988a9c>\u001b[0m in \u001b[0;36mnext\u001b[1;34m(self)\u001b[0m\n\u001b[0;32m     10\u001b[0m     \u001b[1;32mdef\u001b[0m \u001b[0mnext\u001b[0m\u001b[1;33m(\u001b[0m\u001b[0mself\u001b[0m\u001b[1;33m)\u001b[0m\u001b[1;33m:\u001b[0m\u001b[1;33m\u001b[0m\u001b[0m\n\u001b[0;32m     11\u001b[0m         \u001b[1;32mif\u001b[0m \u001b[0mself\u001b[0m\u001b[1;33m.\u001b[0m\u001b[0mcurrent\u001b[0m \u001b[1;33m>\u001b[0m \u001b[0mself\u001b[0m\u001b[1;33m.\u001b[0m\u001b[0mend\u001b[0m\u001b[1;33m:\u001b[0m\u001b[1;33m\u001b[0m\u001b[0m\n\u001b[1;32m---> 12\u001b[1;33m             \u001b[1;32mraise\u001b[0m \u001b[0mStopIteration\u001b[0m\u001b[1;33m\u001b[0m\u001b[0m\n\u001b[0m\u001b[0;32m     13\u001b[0m         \u001b[1;32melse\u001b[0m\u001b[1;33m:\u001b[0m\u001b[1;33m\u001b[0m\u001b[0m\n\u001b[0;32m     14\u001b[0m             \u001b[0mself\u001b[0m\u001b[1;33m.\u001b[0m\u001b[0mcurrent\u001b[0m \u001b[1;33m+=\u001b[0m\u001b[1;36m1\u001b[0m\u001b[1;33m\u001b[0m\u001b[0m\n",
      "\u001b[1;31mStopIteration\u001b[0m: "
     ]
    }
   ],
   "source": [
    "print c.next()"
   ]
  },
  {
   "cell_type": "code",
   "execution_count": 9,
   "metadata": {},
   "outputs": [
    {
     "name": "stdout",
     "output_type": "stream",
     "text": [
      "1\n",
      "2\n",
      "3\n",
      "4\n",
      "5\n"
     ]
    }
   ],
   "source": [
    "c = SimpleCounter(1,5)\n",
    "for entry in iter(c):\n",
    "    print entry"
   ]
  },
  {
   "cell_type": "code",
   "execution_count": 10,
   "metadata": {},
   "outputs": [
    {
     "name": "stdout",
     "output_type": "stream",
     "text": [
      "285\n"
     ]
    }
   ],
   "source": [
    "# generate iterator \n",
    "# 使用生成器创建迭代器\n",
    "\n",
    "SimpleCounter = (x**2 for x in range(1,10))\n",
    "total = 0\n",
    "for val in SimpleCounter:\n",
    "    total += val\n",
    "\n",
    "print total"
   ]
  },
  {
   "cell_type": "code",
   "execution_count": 11,
   "metadata": {},
   "outputs": [
    {
     "name": "stdout",
     "output_type": "stream",
     "text": [
      "86\n"
     ]
    }
   ],
   "source": [
    "# 使用yield语句创建一个生成器 \n",
    "def my_gen(low,high):\n",
    "    for x in range(low,high):\n",
    "        yield x**2\n",
    "\n",
    "total = 0\n",
    "for val in my_gen(3,7):\n",
    "    total += val\n",
    "\n",
    "print total"
   ]
  },
  {
   "cell_type": "markdown",
   "metadata": {},
   "source": [
    "### 使用可迭代对象\n",
    "\n",
    "可迭代对象和生成器很像，但是最主要区别是，可以重复的访问一个可迭代对象，生成器不是的。"
   ]
  },
  {
   "cell_type": "code",
   "execution_count": 12,
   "metadata": {},
   "outputs": [
    {
     "name": "stdout",
     "output_type": "stream",
     "text": [
      "285\n",
      "285\n"
     ]
    }
   ],
   "source": [
    "# 先创建一个简单的带有iter方法的类\n",
    "class SimpleIterable():\n",
    "    \n",
    "    def __init__(self,start,end):\n",
    "        self.start = start\n",
    "        self.end = end\n",
    "        \n",
    "    def __iter__(self):\n",
    "        for x in range(self.start,self.end):\n",
    "            yield x**2\n",
    "            \n",
    "# 现在调用这个类\n",
    "c = SimpleIterable(1,10)\n",
    "\n",
    "# 第一次迭代\n",
    "total = 0\n",
    "for val in iter(c):\n",
    "    total += val\n",
    "    \n",
    "print total\n",
    "\n",
    "# 第二次迭代\n",
    "total = 0\n",
    "for val in iter(c):\n",
    "    total += val\n",
    "    \n",
    "print total"
   ]
  }
 ],
 "metadata": {
  "kernelspec": {
   "display_name": "Python 2",
   "language": "python",
   "name": "python2"
  },
  "language_info": {
   "codemirror_mode": {
    "name": "ipython",
    "version": 2
   },
   "file_extension": ".py",
   "mimetype": "text/x-python",
   "name": "python",
   "nbconvert_exporter": "python",
   "pygments_lexer": "ipython2",
   "version": "2.7.12"
  }
 },
 "nbformat": 4,
 "nbformat_minor": 2
}
